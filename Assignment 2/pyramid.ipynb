{
 "cells": [
  {
   "cell_type": "code",
   "execution_count": 1,
   "id": "564a5e90",
   "metadata": {},
   "outputs": [
    {
     "name": "stdout",
     "output_type": "stream",
     "text": [
      "Requirement already satisfied: opencv-contrib-python in c:\\users\\gbata\\anaconda3\\lib\\site-packages (4.6.0.66)\n",
      "Requirement already satisfied: numpy>=1.14.5 in c:\\users\\gbata\\anaconda3\\lib\\site-packages (from opencv-contrib-python) (1.23.2)\n"
     ]
    }
   ],
   "source": [
    "import sys\n",
    "!{sys.executable} -m pip install opencv-contrib-python --upgrade"
   ]
  },
  {
   "cell_type": "code",
   "execution_count": 2,
   "id": "f9a6dc42",
   "metadata": {},
   "outputs": [],
   "source": [
    "def convolution(oldimage, kernel):\n",
    "    image_h = oldimage.shape[0]\n",
    "    image_w = oldimage.shape[1]\n",
    "    \n",
    "    \n",
    "    kernel_h = kernel.shape[0]\n",
    "    kernel_w = kernel.shape[1]\n",
    "    \n",
    "    if(len(oldimage.shape) == 3):\n",
    "        image_pad = np.pad(oldimage, pad_width=(\n",
    "            (kernel_h // 2, kernel_h // 2),(kernel_w // 2, \n",
    "            kernel_w // 2),(0,0)), mode='constant', \n",
    "            constant_values=0).astype(np.float32)\n",
    "    elif(len(oldimage.shape) == 2):\n",
    "        image_pad = np.pad(oldimage, pad_width=(\n",
    "            (kernel_h // 2, kernel_h // 2),\n",
    "            (kernel_w // 2, kernel_w // 2)), mode='constant', constant_values=0).astype(np.float32)\n",
    "    \n",
    "    \n",
    "    h = kernel_h // 2\n",
    "    w = kernel_w // 2\n",
    "    \n",
    "    image_conv = np.zeros(image_pad.shape)\n",
    "    \n",
    "    for i in range(h, image_pad.shape[0]-h):\n",
    "        for j in range(w, image_pad.shape[1]-w):\n",
    "            #sum = 0\n",
    "            x = image_pad[i-h:i-h+kernel_h, j-w:j-w+kernel_w]\n",
    "            x = x.flatten()*kernel.flatten()\n",
    "            image_conv[i][j] = x.sum()\n",
    "    h_end = -h\n",
    "    w_end = -w\n",
    "    \n",
    "    if(h == 0):\n",
    "        return image_conv[h:,w:w_end]\n",
    "    if(w == 0):\n",
    "        return image_conv[h:h_end,w:]\n",
    "    return image_conv[h:h_end,w:w_end]"
   ]
  },
  {
   "cell_type": "code",
   "execution_count": 3,
   "id": "7e9799b6",
   "metadata": {},
   "outputs": [],
   "source": [
    "def GaussianBlurImage(image, mult=1):\n",
    "    gaussian_filter= np.array([[1, 4, 6, 4, 1],\n",
    "                             [4,16,24,16,4],\n",
    "                             [6,24,36,24,6],\n",
    "                             [4,16,24,16,4],\n",
    "                             [1, 4, 6, 4, 1]])/256 * mult\n",
    "    \n",
    "    \n",
    "    im_filtered = np.zeros_like(image, dtype=np.float32)\n",
    "    for c in range(3):\n",
    "        im_filtered[:, :, c] = convolution(image[:, :, c], gaussian_filter)\n",
    "    return (im_filtered.astype(np.uint8))"
   ]
  },
  {
   "cell_type": "code",
   "execution_count": 4,
   "id": "04f766f8",
   "metadata": {},
   "outputs": [],
   "source": [
    "def pyrD(image):\n",
    "    #Convolve with kernel\n",
    "    blurred = GaussianBlurImage(image)\n",
    "    #Remove every even-numbered row and column\n",
    "    down = blurred[::2,::2]\n",
    "    return down"
   ]
  },
  {
   "cell_type": "code",
   "execution_count": 5,
   "id": "c061caf0",
   "metadata": {},
   "outputs": [],
   "source": [
    "def pyrU(image):\n",
    "    #Upsample\n",
    "    shp = (2*image.shape[0],2*image.shape[1],image.shape[2])\n",
    "    out = np.zeros(np.array(shp),dtype=image.dtype)\n",
    "    out[::2,::2] = image\n",
    "    #Convolve\n",
    "    up = GaussianBlurImage(out, 4)\n",
    "    return up"
   ]
  },
  {
   "cell_type": "code",
   "execution_count": 6,
   "id": "e4ea0df3",
   "metadata": {},
   "outputs": [],
   "source": [
    "import cv2 as cv\n",
    "import numpy as np,sys\n",
    "A = cv.imread('./data/apple.png')\n",
    "B = cv.imread('./data/orange.png')\n",
    "# generate Gaussian pyramid for A\n",
    "G = A.copy()\n",
    "gpA = [G]\n",
    "for i in range(6):\n",
    "    G = pyrD(G)\n",
    "    gpA.append(G)\n",
    "# generate Gaussian pyramid for B\n",
    "G = B.copy()\n",
    "gpB = [G]\n",
    "for i in range(6):\n",
    "    G = pyrD(G)\n",
    "    gpB.append(G)\n",
    "# generate Laplacian Pyramid for A\n",
    "lpA = [gpA[5]]\n",
    "for i in range(5,0,-1):\n",
    "    GE = pyrU(gpA[i])\n",
    "    if gpA[i-1].shape[0] % 2 == 1:\n",
    "        GE = GE[:-1,:,:]\n",
    "    if gpA[i-1].shape[1] % 2 == 1:\n",
    "        GE = GE[:,:-1,:]    \n",
    "    L = cv.subtract(gpA[i-1],GE)\n",
    "    lpA.append(L)\n",
    "# generate Laplacian Pyramid for B\n",
    "lpB = [gpB[5]]\n",
    "for i in range(5,0,-1):\n",
    "    GE = pyrU(gpB[i])\n",
    "    if gpB[i-1].shape[0] % 2 == 1:\n",
    "        GE = GE[:-1,:,:]\n",
    "    if gpB[i-1].shape[1] % 2 == 1:\n",
    "        GE = GE[:,:-1,:]\n",
    "    L = cv.subtract(gpB[i-1],GE)\n",
    "    lpB.append(L)\n",
    "# Now add left and right halves of images in each level\n",
    "LS = []\n",
    "for la,lb in zip(lpA,lpB):\n",
    "    rows,cols,dpt = la.shape\n",
    "    ls = np.hstack((la[:,0:cols//2], lb[:,cols//2:]))\n",
    "    LS.append(ls)\n",
    "# now reconstruct\n",
    "ls_ = LS[0]\n",
    "for i in range(1,6):\n",
    "    ls_ = pyrU(ls_)\n",
    "    if LS[i].shape[0] % 2 == 1:\n",
    "        ls_ = ls_[:-1,:,:]\n",
    "    if LS[i].shape[1] % 2 == 1:\n",
    "        ls_ = ls_[:,:-1,:]\n",
    "    ls_ = cv.add(ls_, LS[i])\n",
    "\n",
    "# image with direct connecting each half\n",
    "real = np.hstack((A[:,:cols//2],B[:,cols//2:]))\n",
    "\n",
    "cv.imshow(\"Original\",np.hstack([A,B]))\n",
    "cv.imshow(\"Result\",np.hstack([ls_,real]))\n",
    "cv.waitKey(0)\n",
    "cv.destroyAllWindows()"
   ]
  },
  {
   "cell_type": "code",
   "execution_count": null,
   "id": "61c8e601",
   "metadata": {},
   "outputs": [],
   "source": []
  },
  {
   "cell_type": "code",
   "execution_count": null,
   "id": "991874d3",
   "metadata": {},
   "outputs": [],
   "source": []
  }
 ],
 "metadata": {
  "kernelspec": {
   "display_name": "Python 3 (ipykernel)",
   "language": "python",
   "name": "python3"
  },
  "language_info": {
   "codemirror_mode": {
    "name": "ipython",
    "version": 3
   },
   "file_extension": ".py",
   "mimetype": "text/x-python",
   "name": "python",
   "nbconvert_exporter": "python",
   "pygments_lexer": "ipython3",
   "version": "3.9.12"
  }
 },
 "nbformat": 4,
 "nbformat_minor": 5
}
