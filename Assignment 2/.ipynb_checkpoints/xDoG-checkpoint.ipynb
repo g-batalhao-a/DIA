{
 "cells": [
  {
   "cell_type": "code",
   "execution_count": 1,
   "id": "0c1e4ecc",
   "metadata": {},
   "outputs": [
    {
     "name": "stdout",
     "output_type": "stream",
     "text": [
      "Requirement already satisfied: opencv-contrib-python in c:\\users\\gbata\\anaconda3\\lib\\site-packages (4.6.0.66)\n",
      "Requirement already satisfied: numpy>=1.17.3 in c:\\users\\gbata\\anaconda3\\lib\\site-packages (from opencv-contrib-python) (1.23.2)\n"
     ]
    }
   ],
   "source": [
    "import sys\n",
    "!{sys.executable} -m pip install opencv-contrib-python --upgrade"
   ]
  },
  {
   "cell_type": "code",
   "execution_count": 30,
   "id": "c280ff98",
   "metadata": {},
   "outputs": [],
   "source": [
    "import cv2\n",
    "import numpy as np\n",
    "\n",
    "img = cv2.imread('./data/xDoG1.png',cv2.IMREAD_GRAYSCALE)\n",
    "\n",
    "# k = 1.6 as proposed in the paper\n",
    "k = 1.6\n",
    "cv2.imshow(\"Result\",img)\n",
    "cv2.waitKey(0)\n",
    "cv2.destroyAllWindows()"
   ]
  },
  {
   "cell_type": "code",
   "execution_count": 69,
   "id": "a80789cd",
   "metadata": {},
   "outputs": [],
   "source": [
    "def convolution(oldimage, kernel):\n",
    "    image_h = oldimage.shape[0]\n",
    "    image_w = oldimage.shape[1]\n",
    "    \n",
    "    \n",
    "    kernel_h = kernel.shape[0]\n",
    "    kernel_w = kernel.shape[1]\n",
    "    \n",
    "    if(len(oldimage.shape) == 3):\n",
    "        image_pad = np.pad(oldimage, pad_width=(\n",
    "            (kernel_h // 2, kernel_h // 2),(kernel_w // 2, \n",
    "            kernel_w // 2),(0,0)), mode='constant', \n",
    "            constant_values=0).astype(np.float32)\n",
    "    elif(len(oldimage.shape) == 2):\n",
    "        image_pad = np.pad(oldimage, pad_width=(\n",
    "            (kernel_h // 2, kernel_h // 2),\n",
    "            (kernel_w // 2, kernel_w // 2)), mode='constant', constant_values=0).astype(np.float32)\n",
    "    \n",
    "    \n",
    "    h = kernel_h // 2\n",
    "    w = kernel_w // 2\n",
    "    \n",
    "    image_conv = np.zeros(image_pad.shape)\n",
    "    \n",
    "    for i in range(h, image_pad.shape[0]-h):\n",
    "        for j in range(w, image_pad.shape[1]-w):\n",
    "            #sum = 0\n",
    "            x = image_pad[i-h:i-h+kernel_h, j-w:j-w+kernel_w]\n",
    "            x = x.flatten()*kernel.flatten()\n",
    "            image_conv[i][j] = x.sum()\n",
    "    h_end = -h\n",
    "    w_end = -w\n",
    "    \n",
    "    if(h == 0):\n",
    "        return image_conv[h:,w:w_end]\n",
    "    if(w == 0):\n",
    "        return image_conv[h:h_end,w:]\n",
    "    return image_conv[h:h_end,w:w_end]"
   ]
  },
  {
   "cell_type": "code",
   "execution_count": 80,
   "id": "c71d173a",
   "metadata": {},
   "outputs": [],
   "source": [
    "def GaussianBlurImage(image, sigma):\n",
    "    filter_size = 2 * int(4 * sigma + 0.5) + 1\n",
    "    gaussian_filter = np.zeros((filter_size, filter_size), np.float32)\n",
    "    m = filter_size//2\n",
    "    n = filter_size//2\n",
    "    \n",
    "    for x in range(-m, m+1):\n",
    "        for y in range(-n, n+1):\n",
    "            x1 = 2*np.pi*(sigma**2)\n",
    "            x2 = np.exp(-(x**2 + y**2)/(2* sigma**2))\n",
    "            gaussian_filter[x+m, y+n] = (1/x1)*x2\n",
    "    \n",
    "    im_filtered = np.zeros_like(image, dtype=np.float32)\n",
    "    im_filtered[:, :] = convolution(image[:, :], gaussian_filter)\n",
    "    return (im_filtered.astype(np.uint8))"
   ]
  },
  {
   "cell_type": "code",
   "execution_count": 82,
   "id": "735fe731",
   "metadata": {},
   "outputs": [
    {
     "name": "stdout",
     "output_type": "stream",
     "text": [
      "(845, 610) (845, 610)\n"
     ]
    }
   ],
   "source": [
    "img_blur = GaussianBlurImage(img, 1)\n",
    "cv2.imshow(\"blur\",np.hstack([img,img_blur]))\n",
    "cv2.waitKey(0)\n",
    "cv2.destroyAllWindows()\n",
    "\n",
    "# Difference of Gaussians applied to img input\n",
    "def dog(img,size=(0,0),k=1.6,sigma=0.5,tau=1):\n",
    "    img1 = GaussianBlurImage(img,sigma)\n",
    "    img2 = GaussianBlurImage(img,sigma*k)\n",
    "    return (img1-tau*img2)\n",
    "\n",
    "# version of xdog inspired by article\n",
    "def xdog(img,sigma=0.5,k=1.6, tau=1,epsilon=1,phi=1):\n",
    "    aux = dog(img,sigma=sigma,k=k,tau=tau)/255\n",
    "    for i in range(0,aux.shape[0]):\n",
    "        for j in range(0,aux.shape[1]):\n",
    "            if(aux[i,j] >= epsilon):\n",
    "                aux[i,j] = 1*255\n",
    "            else:\n",
    "                aux[i,j] = 255*(1 + np.tanh(phi*(aux[i,j])))\n",
    "    return aux"
   ]
  },
  {
   "cell_type": "code",
   "execution_count": 83,
   "id": "ed1eb9d4",
   "metadata": {},
   "outputs": [
    {
     "name": "stdout",
     "output_type": "stream",
     "text": [
      "(845, 610) (845, 610)\n",
      "(845, 610) (845, 610)\n"
     ]
    }
   ],
   "source": [
    "cv2.imshow(\"XDoG\",np.uint8(xdog(img,sigma=1,k=1.6, tau=21.7,epsilon=79.5,phi=0.017)))\n",
    "cv2.waitKey(0)\n",
    "cv2.destroyAllWindows()"
   ]
  },
  {
   "cell_type": "code",
   "execution_count": null,
   "id": "60793389",
   "metadata": {},
   "outputs": [],
   "source": []
  }
 ],
 "metadata": {
  "kernelspec": {
   "display_name": "Python 3 (ipykernel)",
   "language": "python",
   "name": "python3"
  },
  "language_info": {
   "codemirror_mode": {
    "name": "ipython",
    "version": 3
   },
   "file_extension": ".py",
   "mimetype": "text/x-python",
   "name": "python",
   "nbconvert_exporter": "python",
   "pygments_lexer": "ipython3",
   "version": "3.9.12"
  }
 },
 "nbformat": 4,
 "nbformat_minor": 5
}
