{
 "cells": [
  {
   "cell_type": "code",
   "execution_count": 1,
   "metadata": {},
   "outputs": [
    {
     "name": "stdout",
     "output_type": "stream",
     "text": [
      "Requirement already satisfied: opencv-contrib-python in c:\\users\\gbata\\anaconda3\\lib\\site-packages (4.6.0.66)\n",
      "Requirement already satisfied: numpy>=1.17.3 in c:\\users\\gbata\\anaconda3\\lib\\site-packages (from opencv-contrib-python) (1.23.2)\n"
     ]
    }
   ],
   "source": [
    "import sys\n",
    "!{sys.executable} -m pip install opencv-contrib-python --upgrade"
   ]
  },
  {
   "cell_type": "code",
   "execution_count": 2,
   "metadata": {},
   "outputs": [],
   "source": [
    "import cv2\n",
    "import numpy as np\n",
    "import math \n",
    "\n",
    "# Read the image\n",
    "image = cv2.imread(\"./data/sky.jpg\")\n",
    "\n",
    "cv2.imshow(\"Original\",image)\n",
    "cv2.waitKey(0)\n",
    "cv2.destroyAllWindows()"
   ]
  },
  {
   "cell_type": "code",
   "execution_count": 3,
   "metadata": {},
   "outputs": [],
   "source": [
    "def get_swatch_from_img(img):\n",
    "    vertex = []\n",
    "    copy = img.copy()\n",
    "\n",
    "    def swatch(e, x, y, f, param):\n",
    "        if e == cv2.EVENT_LBUTTONDOWN:\n",
    "            vertex.append((x, y))\n",
    "            if len(vertex) % 2 == 0:\n",
    "                cv2.rectangle(copy, vertex[-2], vertex[-1], (0, 255, 0), 1)\n",
    "\n",
    "    cv2.namedWindow(\"Swatch Selection\")\n",
    "    cv2.setMouseCallback(\"Swatch Selection\", swatch)\n",
    "    while True:\n",
    "        cv2.imshow(\"Swatch Selection\", copy)\n",
    "        key = cv2.waitKey(1)\n",
    "        if key == 122 and len(vertex) != 0:\n",
    "            vertex.pop()\n",
    "            for x, y in zip(vertex[::2], vertex[1::2]):\n",
    "                cv2.rectangle(copy, x, y, (0, 255, 0), 1)\n",
    "        if key != -1:\n",
    "            break\n",
    "    cv2.destroyWindow(\"Swatch Selection\")\n",
    "    l = [(x[0], x[1], y[0]-x[0], y[1]-x[1])\n",
    "         for x, y in zip(vertex[::2], vertex[1::2])]\n",
    "    if len(l) == 0:\n",
    "        return None\n",
    "    return l\n",
    "\n",
    "\n",
    "def get_swatch(img):\n",
    "    swatch = get_swatch_from_img(img)\n",
    "    if swatch is None:\n",
    "        return None\n",
    "    x, y = swatch[0][0], swatch[0][1]\n",
    "    x_f, y_f = swatch[0][2]+x, swatch[0][3]+y\n",
    "\n",
    "    if x > x_f:\n",
    "        x, x_f = x_f, x\n",
    "    if y > y_f:\n",
    "        y, y_f = y_f, y\n",
    "    return img[y:y_f, x:x_f, :]\n"
   ]
  },
  {
   "cell_type": "code",
   "execution_count": 4,
   "metadata": {},
   "outputs": [
    {
     "name": "stdout",
     "output_type": "stream",
     "text": [
      "Requirement already satisfied: colorthief in c:\\users\\gbata\\anaconda3\\lib\\site-packages (0.2.1)\n",
      "Requirement already satisfied: Pillow in c:\\users\\gbata\\anaconda3\\lib\\site-packages (from colorthief) (9.0.1)\n"
     ]
    }
   ],
   "source": [
    "!pip install colorthief\n",
    "from colorthief import ColorThief\n",
    "import time\n",
    "from pickletools import uint8\n",
    "\n",
    "\n",
    "def dominant_color(img):\n",
    "    if img is None:\n",
    "        return None\n",
    "    cv2.imwrite(\"./data/dominant.jpg\", img)\n",
    "    time.sleep(10)\n",
    "    color_thief = ColorThief(\"./data/dominant.jpg\")\n",
    "    color = color_thief.get_color(quality=1)\n",
    "    return [color[2], color[1], color[0]]\n",
    "\n",
    "\n",
    "def get_binnary_mask(channel, x, y, c_min, c_max):\n",
    "    channel = np.resize(channel, (x, y))\n",
    "    mask = (channel >= c_min) & (channel <= c_max)\n",
    "    return mask.astype(int)\n",
    "\n",
    "\n",
    "def create_mask(color, blur, dev):\n",
    "    if color is None or blur is None:\n",
    "        return None\n",
    "    b, g, r = color[0], color[1], color[2]\n",
    "    b_min, b_max = b-dev, b+dev\n",
    "    g_min, g_max = g-dev, g+dev\n",
    "    r_min, r_max = r-dev, r+dev\n",
    "    x = blur.shape[0]\n",
    "    y = blur.shape[1]\n",
    "    b_mask = get_binnary_mask(blur[:, :, 0], x, y, b_min, b_max)\n",
    "    g_mask = get_binnary_mask(blur[:, :, 1], x, y, g_min, g_max)\n",
    "    r_mask = get_binnary_mask(blur[:, :, 2], x, y, r_min, r_max)\n",
    "    sum_mask = b_mask+g_mask+r_mask\n",
    "    t = (sum_mask == 3)\n",
    "    return t.astype(int)"
   ]
  },
  {
   "cell_type": "code",
   "execution_count": 15,
   "metadata": {},
   "outputs": [],
   "source": [
    "def sky_enhancement(img):\n",
    "    blur = cv2.bilateralFilter(img, 9, 75, 75)\n",
    "    blue = get_swatch(img)\n",
    "    if blue is None: return []\n",
    "    dominant_blue = dominant_color(blue)\n",
    "    sky_m = create_mask(dominant_blue, blur, 55)\n",
    "    \n",
    "    cloud = get_swatch(img)\n",
    "    dominant_cloud = dominant_color(cloud)\n",
    "    cloud_m = create_mask(dominant_cloud, blur, 40)\n",
    "    \n",
    "    joint_mask = cv2.cv2.bitwise_or(sky_m, cloud_m)\n",
    "    \n",
    "    avg_blue = np.zeros(blur.shape, np.uint8)\n",
    "    avg_blue[:] = (dominant_blue[0], dominant_blue[1], dominant_blue[2])\n",
    "    ideal_blue = np.zeros(blur.shape, np.uint8)\n",
    "    ideal_blue[:] = (189, 122, 42)\n",
    "    cv2.imshow(\"sky color\",np.hstack([ideal_blue,avg_blue]))\n",
    "    cv2.waitKey(0)\n",
    "    cv2.destroyAllWindows()\n",
    "\n",
    "    avg_blue = cv2.cvtColor(avg_blue, cv2.COLOR_BGR2Lab)\n",
    "    ideal_blue = cv2.cvtColor(ideal_blue, cv2.COLOR_BGR2Lab)\n",
    "\n",
    "    f_sky = (ideal_blue/avg_blue)[0,0]\n",
    "    # copy where we'll assign the new values\n",
    "    lab = cv2.cvtColor(img, cv2.COLOR_BGR2Lab)\n",
    "    sky_enhance = np.copy(lab)\n",
    "    # boolean indexing and assignment based on mask\n",
    "    for i in range(0,3):\n",
    "        sky_enhance[:,:,i][joint_mask == 1] = sky_enhance[:,:,i][joint_mask == 1]* f_sky[i]\n",
    "    sky_enhance_w = cv2.addWeighted(sky_enhance, 1, img , 0, 0, sky_enhance)\n",
    "    check = cv2.cvtColor(sky_enhance_w, cv2.COLOR_Lab2BGR)\n",
    "    cv2.imshow(\"sky_mask\",cv2.bitwise_and(img, img, mask = joint_mask.astype(np.uint8)))\n",
    "    cv2.imshow(\"new sky\",np.hstack([img,check, sky_enhance_w]))\n",
    "    cv2.waitKey(0)\n",
    "    cv2.destroyAllWindows()\n",
    "    \n",
    "    \"\"\"\n",
    "    ideal_white = [100,0,0]\n",
    "    # copy where we'll assign the new values\n",
    "    cloud_enhance = np.copy(sky_enhance)\n",
    "    # boolean indexing and assignment based on mask\n",
    "    for i in range(0,3):\n",
    "        cloud_enhance[:,:,i][cloud_m == 1] = (cloud_enhance[:,:,i][cloud_m == 1] + ideal_white[i])/2.0\n",
    "    \n",
    "    cloud_enhance[:,:,0].clip(0,100)\n",
    "    cloud_enhance_w = cv2.addWeighted(cloud_enhance, 1, img, 0, 0, cloud_enhance)\n",
    "    check_c = cv2.cvtColor(cloud_enhance_w, cv2.COLOR_Lab2BGR)\n",
    "    cv2.imshow(\"cloud_mask\",cv2.bitwise_and(img, img, mask = cloud_m.astype(np.uint8)))\n",
    "    cv2.imshow(\"enhancements sky\",np.hstack([img, check_c, cloud_enhance_w]))\n",
    "    cv2.waitKey(0)\n",
    "    cv2.destroyAllWindows()\n",
    "    \"\"\"\n",
    "    \n",
    "    \"\"\"\n",
    "    βnew = Psky*f sky* βold + (1 − Psky) * βold\n",
    "    \n",
    "    κnew = Psky*(W+κold)/2 + (1 − Psky)*  κold\n",
    "    \"\"\"\n",
    "\n",
    "\n",
    "    return check.copy()\n"
   ]
  },
  {
   "cell_type": "code",
   "execution_count": 16,
   "metadata": {},
   "outputs": [
    {
     "ename": "AttributeError",
     "evalue": "module 'cv2' has no attribute 'cv2'",
     "output_type": "error",
     "traceback": [
      "\u001b[1;31m---------------------------------------------------------------------------\u001b[0m",
      "\u001b[1;31mAttributeError\u001b[0m                            Traceback (most recent call last)",
      "Input \u001b[1;32mIn [16]\u001b[0m, in \u001b[0;36m<cell line: 1>\u001b[1;34m()\u001b[0m\n\u001b[1;32m----> 1\u001b[0m colored_img \u001b[38;5;241m=\u001b[39m \u001b[43msky_enhancement\u001b[49m\u001b[43m(\u001b[49m\u001b[43mimage\u001b[49m\u001b[43m)\u001b[49m\n\u001b[0;32m      2\u001b[0m cv2\u001b[38;5;241m.\u001b[39mimshow(\u001b[38;5;124m\"\u001b[39m\u001b[38;5;124mOriginal\u001b[39m\u001b[38;5;124m\"\u001b[39m,image)\n\u001b[0;32m      3\u001b[0m cv2\u001b[38;5;241m.\u001b[39mimshow(\u001b[38;5;124m\"\u001b[39m\u001b[38;5;124mFinal\u001b[39m\u001b[38;5;124m\"\u001b[39m,colored_img)\n",
      "Input \u001b[1;32mIn [15]\u001b[0m, in \u001b[0;36msky_enhancement\u001b[1;34m(img)\u001b[0m\n\u001b[0;32m      9\u001b[0m dominant_cloud \u001b[38;5;241m=\u001b[39m dominant_color(cloud)\n\u001b[0;32m     10\u001b[0m cloud_m \u001b[38;5;241m=\u001b[39m create_mask(dominant_cloud, blur, \u001b[38;5;241m40\u001b[39m)\n\u001b[1;32m---> 12\u001b[0m joint_mask \u001b[38;5;241m=\u001b[39m \u001b[43mcv2\u001b[49m\u001b[38;5;241;43m.\u001b[39;49m\u001b[43mcv2\u001b[49m\u001b[38;5;241m.\u001b[39mbitwise_or(sky_m, cloud_m)\n\u001b[0;32m     14\u001b[0m avg_blue \u001b[38;5;241m=\u001b[39m np\u001b[38;5;241m.\u001b[39mzeros(blur\u001b[38;5;241m.\u001b[39mshape, np\u001b[38;5;241m.\u001b[39muint8)\n\u001b[0;32m     15\u001b[0m avg_blue[:] \u001b[38;5;241m=\u001b[39m (dominant_blue[\u001b[38;5;241m0\u001b[39m], dominant_blue[\u001b[38;5;241m1\u001b[39m], dominant_blue[\u001b[38;5;241m2\u001b[39m])\n",
      "\u001b[1;31mAttributeError\u001b[0m: module 'cv2' has no attribute 'cv2'"
     ]
    }
   ],
   "source": [
    "colored_img = sky_enhancement(image)\n",
    "cv2.imshow(\"Original\",image)\n",
    "cv2.imshow(\"Final\",colored_img)\n",
    "cv2.waitKey(0)\n",
    "cv2.destroyAllWindows()"
   ]
  },
  {
   "cell_type": "code",
   "execution_count": null,
   "metadata": {},
   "outputs": [],
   "source": []
  },
  {
   "cell_type": "code",
   "execution_count": null,
   "metadata": {},
   "outputs": [],
   "source": []
  }
 ],
 "metadata": {
  "kernelspec": {
   "display_name": "Python 3 (ipykernel)",
   "language": "python",
   "name": "python3"
  },
  "language_info": {
   "codemirror_mode": {
    "name": "ipython",
    "version": 3
   },
   "file_extension": ".py",
   "mimetype": "text/x-python",
   "name": "python",
   "nbconvert_exporter": "python",
   "pygments_lexer": "ipython3",
   "version": "3.9.12"
  },
  "vscode": {
   "interpreter": {
    "hash": "a5d4af56a2e7987301107af7338a2f4c12a3584e52162a713fa580e431dd5f3e"
   }
  }
 },
 "nbformat": 4,
 "nbformat_minor": 2
}
