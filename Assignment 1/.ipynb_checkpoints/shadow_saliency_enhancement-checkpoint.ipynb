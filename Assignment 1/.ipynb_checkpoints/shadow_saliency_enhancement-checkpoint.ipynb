{
 "cells": [
  {
   "cell_type": "code",
   "execution_count": 1,
   "id": "206f3180",
   "metadata": {},
   "outputs": [
    {
     "name": "stdout",
     "output_type": "stream",
     "text": [
      "Requirement already satisfied: opencv-contrib-python in c:\\users\\gbata\\anaconda3\\lib\\site-packages (4.6.0.66)\n",
      "Requirement already satisfied: numpy>=1.19.3 in c:\\users\\gbata\\anaconda3\\lib\\site-packages (from opencv-contrib-python) (1.23.2)\n"
     ]
    }
   ],
   "source": [
    "import sys\n",
    "!{sys.executable} -m pip install opencv-contrib-python --upgrade"
   ]
  },
  {
   "cell_type": "code",
   "execution_count": 2,
   "id": "9ed63d71",
   "metadata": {},
   "outputs": [],
   "source": [
    "import cv2\n",
    "import numpy as np\n",
    "import math \n",
    "\n",
    "# Create the haar cascade\n",
    "faceCascade = cv2.CascadeClassifier(\"./data/haarcascade_frontalface_default.xml\")\n",
    "\n",
    "# Read the image\n",
    "image = cv2.imread(\"./data/side.jpg\", 1)\n",
    "cv2.imshow(\"Image\",image)\n",
    "cv2.waitKey(0)\n",
    "cv2.destroyAllWindows()\n"
   ]
  },
  {
   "cell_type": "code",
   "execution_count": 3,
   "id": "6646e85e",
   "metadata": {},
   "outputs": [
    {
     "name": "stderr",
     "output_type": "stream",
     "text": [
      "C:\\Users\\gbata\\anaconda3\\lib\\site-packages\\scipy\\__init__.py:146: UserWarning: A NumPy version >=1.16.5 and <1.23.0 is required for this version of SciPy (detected version 1.23.2\n",
      "  warnings.warn(f\"A NumPy version >={np_minversion} and <{np_maxversion}\"\n"
     ]
    }
   ],
   "source": [
    "# Adapted from https://github.com/drakeguan/cp11fall_project1/blob/master/wlsFilter/wlsFilter.m\n",
    "from scipy.sparse import spdiags\n",
    "from scipy.sparse.linalg import spsolve\n",
    "def wls_filter(img_l,alpha=1.2,l=0.5, eps=sys.float_info.epsilon):\n",
    "\n",
    "    img_l = img_l.astype(float)/255.0\n",
    "\n",
    "    r,c = img_l.shape\n",
    "    k = r*c;\n",
    "\n",
    "    # Compute affinities between adjacent pixels based on gradients of L\n",
    "    dy = np.diff(img_l, 1, 0);\n",
    "    dy = -l / (np.absolute(dy)**alpha + eps)\n",
    "    dy = (np.vstack((dy, np.zeros(c, )))).flatten('F')\n",
    "\n",
    "    dx = np.diff(img_l, 1, 1); \n",
    "    dx = -l / (np.absolute(dx)**alpha + eps)\n",
    "    dx = (np.hstack((dx, np.zeros(r, )[:, np.newaxis]))).flatten('F')\n",
    "\n",
    "\n",
    "    # Construct a five-point spatially inhomogeneous Laplacian matrix\n",
    "    B = np.vstack((dx,dy))\n",
    "    d = [-r,-1]\n",
    "    A = spdiags(B,d,k,k)\n",
    "\n",
    "    e = dx\n",
    "    w = np.roll(dx,r)\n",
    "    s = dy\n",
    "    n = np.roll(dy,1)\n",
    "\n",
    "    D = 1 - (e+w+s+n)\n",
    "\n",
    "    print(A.shape, A.T.shape)\n",
    "    print((A + A.T).shape)\n",
    "    A = A + A.T + spdiags(D, 0, k, k)\n",
    "\n",
    "    #Solve\n",
    "    OUT = spsolve(A, img_l.flatten('F')).reshape(img_l.shape[::-1])\n",
    "    \n",
    "    base = np.rollaxis(OUT,1)\n",
    "    detail = img_l - base\n",
    "    return (base,detail)"
   ]
  },
  {
   "cell_type": "code",
   "execution_count": 4,
   "id": "13c7794c",
   "metadata": {},
   "outputs": [],
   "source": [
    "import matplotlib.pyplot as plt\n",
    "\n",
    "def shadow_enhance(img):\n",
    "    # Perform edge-preserving base/detail decomposition\n",
    "    lab = cv2.cvtColor(img, cv2.COLOR_BGR2Lab)\n",
    "    l,a,b = cv2.split(lab)\n",
    "    (base, detail) = wls_filter(l)\n",
    "    \n",
    "    base = (base*255).clip(0,255).astype(np.uint8)\n",
    "    saliency = cv2.saliency.StaticSaliencyFineGrained_create()\n",
    "    (success, saliencyMap) = saliency.computeSaliency(img)\n",
    "    # if we would like a *binary* map that we could process for contours,\n",
    "    # compute convex hull's, extract bounding boxes, etc., we can\n",
    "    # additionally threshold the saliency map\n",
    "    threshMap = cv2.threshold(saliencyMap.astype(\"uint8\"), 0, 255, cv2.THRESH_BINARY | cv2.THRESH_OTSU)[1]\n",
    "    cv2.imshow(\"Output\", saliencyMap)\n",
    "    cv2.imshow(\"Thresh\", threshMap)\n",
    "    cv2.waitKey(0)\n",
    "    cv2.destroyAllWindows()\n",
    "    \n",
    "    dark = (l<50) & (np.maximum.reduce([img[:,:,0],img[:,:,1],img[:,:,2]])-np.minimum.reduce([img[:,:,0],img[:,:,1],img[:,:,2]])>5)\n",
    "    d_base,d_detail = wls_filter(l[dark].reshape(-1,1))\n",
    "    bright = l[~dark]\n",
    "    f_sal = min(2.0,1.0*(np.percentile(bright,35))/(np.percentile(l[dark],95)))\n",
    "    new_base = f_sal*saliencyMap*base + (1-saliencyMap)*base\n",
    "    lab[:,:,0] = (new_base+detail*255).clip(0,255).astype(int)\n",
    "    img_out = cv2.cvtColor(lab,cv2.COLOR_Lab2BGR)\n",
    "    \n",
    "    return img_out"
   ]
  },
  {
   "cell_type": "code",
   "execution_count": 5,
   "id": "94339fae",
   "metadata": {},
   "outputs": [
    {
     "name": "stdout",
     "output_type": "stream",
     "text": [
      "(256500, 256500) (256500, 256500)\n",
      "(256500, 256500)\n"
     ]
    },
    {
     "name": "stderr",
     "output_type": "stream",
     "text": [
      "C:\\Users\\gbata\\anaconda3\\lib\\site-packages\\scipy\\sparse\\linalg\\dsolve\\linsolve.py:144: SparseEfficiencyWarning: spsolve requires A be CSC or CSR matrix format\n",
      "  warn('spsolve requires A be CSC or CSR matrix format',\n"
     ]
    },
    {
     "name": "stdout",
     "output_type": "stream",
     "text": [
      "(14809, 14809) (14809, 14809)\n"
     ]
    },
    {
     "ename": "ValueError",
     "evalue": "k exceeds matrix dimensions",
     "output_type": "error",
     "traceback": [
      "\u001b[1;31m---------------------------------------------------------------------------\u001b[0m",
      "\u001b[1;31mValueError\u001b[0m                                Traceback (most recent call last)",
      "Input \u001b[1;32mIn [5]\u001b[0m, in \u001b[0;36m<cell line: 1>\u001b[1;34m()\u001b[0m\n\u001b[1;32m----> 1\u001b[0m img_out \u001b[38;5;241m=\u001b[39m \u001b[43mshadow_enhance\u001b[49m\u001b[43m(\u001b[49m\u001b[43mimage\u001b[49m\u001b[43m)\u001b[49m\n",
      "Input \u001b[1;32mIn [4]\u001b[0m, in \u001b[0;36mshadow_enhance\u001b[1;34m(img)\u001b[0m\n\u001b[0;32m     19\u001b[0m cv2\u001b[38;5;241m.\u001b[39mdestroyAllWindows()\n\u001b[0;32m     21\u001b[0m dark \u001b[38;5;241m=\u001b[39m (l\u001b[38;5;241m<\u001b[39m\u001b[38;5;241m50\u001b[39m) \u001b[38;5;241m&\u001b[39m (np\u001b[38;5;241m.\u001b[39mmaximum\u001b[38;5;241m.\u001b[39mreduce([img[:,:,\u001b[38;5;241m0\u001b[39m],img[:,:,\u001b[38;5;241m1\u001b[39m],img[:,:,\u001b[38;5;241m2\u001b[39m]])\u001b[38;5;241m-\u001b[39mnp\u001b[38;5;241m.\u001b[39mminimum\u001b[38;5;241m.\u001b[39mreduce([img[:,:,\u001b[38;5;241m0\u001b[39m],img[:,:,\u001b[38;5;241m1\u001b[39m],img[:,:,\u001b[38;5;241m2\u001b[39m]])\u001b[38;5;241m>\u001b[39m\u001b[38;5;241m5\u001b[39m)\n\u001b[1;32m---> 22\u001b[0m d_base,d_detail \u001b[38;5;241m=\u001b[39m \u001b[43mwls_filter\u001b[49m\u001b[43m(\u001b[49m\u001b[43ml\u001b[49m\u001b[43m[\u001b[49m\u001b[43mdark\u001b[49m\u001b[43m]\u001b[49m\u001b[38;5;241;43m.\u001b[39;49m\u001b[43mreshape\u001b[49m\u001b[43m(\u001b[49m\u001b[38;5;241;43m-\u001b[39;49m\u001b[38;5;241;43m1\u001b[39;49m\u001b[43m,\u001b[49m\u001b[38;5;241;43m1\u001b[39;49m\u001b[43m)\u001b[49m\u001b[43m)\u001b[49m\n\u001b[0;32m     23\u001b[0m bright \u001b[38;5;241m=\u001b[39m l[\u001b[38;5;241m~\u001b[39mdark]\n\u001b[0;32m     24\u001b[0m f_sal \u001b[38;5;241m=\u001b[39m \u001b[38;5;28mmin\u001b[39m(\u001b[38;5;241m2.0\u001b[39m,\u001b[38;5;241m1.0\u001b[39m\u001b[38;5;241m*\u001b[39m(np\u001b[38;5;241m.\u001b[39mpercentile(bright,\u001b[38;5;241m35\u001b[39m))\u001b[38;5;241m/\u001b[39m(np\u001b[38;5;241m.\u001b[39mpercentile(l[dark],\u001b[38;5;241m95\u001b[39m)))\n",
      "Input \u001b[1;32mIn [3]\u001b[0m, in \u001b[0;36mwls_filter\u001b[1;34m(img_l, alpha, l, eps)\u001b[0m\n\u001b[0;32m     31\u001b[0m D \u001b[38;5;241m=\u001b[39m \u001b[38;5;241m1\u001b[39m \u001b[38;5;241m-\u001b[39m (e\u001b[38;5;241m+\u001b[39mw\u001b[38;5;241m+\u001b[39ms\u001b[38;5;241m+\u001b[39mn)\n\u001b[0;32m     33\u001b[0m \u001b[38;5;28mprint\u001b[39m(A\u001b[38;5;241m.\u001b[39mshape, A\u001b[38;5;241m.\u001b[39mT\u001b[38;5;241m.\u001b[39mshape)\n\u001b[1;32m---> 34\u001b[0m \u001b[38;5;28mprint\u001b[39m((\u001b[43mA\u001b[49m\u001b[43m \u001b[49m\u001b[38;5;241;43m+\u001b[39;49m\u001b[43m \u001b[49m\u001b[43mA\u001b[49m\u001b[38;5;241;43m.\u001b[39;49m\u001b[43mT\u001b[49m)\u001b[38;5;241m.\u001b[39mshape)\n\u001b[0;32m     35\u001b[0m A \u001b[38;5;241m=\u001b[39m A \u001b[38;5;241m+\u001b[39m A\u001b[38;5;241m.\u001b[39mT \u001b[38;5;241m+\u001b[39m spdiags(D, \u001b[38;5;241m0\u001b[39m, k, k)\n\u001b[0;32m     37\u001b[0m \u001b[38;5;66;03m#Solve\u001b[39;00m\n",
      "File \u001b[1;32m~\\anaconda3\\lib\\site-packages\\scipy\\sparse\\base.py:415\u001b[0m, in \u001b[0;36mspmatrix.__add__\u001b[1;34m(self, other)\u001b[0m\n\u001b[0;32m    413\u001b[0m     \u001b[38;5;28;01mif\u001b[39;00m other\u001b[38;5;241m.\u001b[39mshape \u001b[38;5;241m!=\u001b[39m \u001b[38;5;28mself\u001b[39m\u001b[38;5;241m.\u001b[39mshape:\n\u001b[0;32m    414\u001b[0m         \u001b[38;5;28;01mraise\u001b[39;00m \u001b[38;5;167;01mValueError\u001b[39;00m(\u001b[38;5;124m\"\u001b[39m\u001b[38;5;124minconsistent shapes\u001b[39m\u001b[38;5;124m\"\u001b[39m)\n\u001b[1;32m--> 415\u001b[0m     \u001b[38;5;28;01mreturn\u001b[39;00m \u001b[38;5;28;43mself\u001b[39;49m\u001b[38;5;241;43m.\u001b[39;49m\u001b[43m_add_sparse\u001b[49m\u001b[43m(\u001b[49m\u001b[43mother\u001b[49m\u001b[43m)\u001b[49m\n\u001b[0;32m    416\u001b[0m \u001b[38;5;28;01melif\u001b[39;00m isdense(other):\n\u001b[0;32m    417\u001b[0m     other \u001b[38;5;241m=\u001b[39m np\u001b[38;5;241m.\u001b[39mbroadcast_to(other, \u001b[38;5;28mself\u001b[39m\u001b[38;5;241m.\u001b[39mshape)\n",
      "File \u001b[1;32m~\\anaconda3\\lib\\site-packages\\scipy\\sparse\\dia.py:263\u001b[0m, in \u001b[0;36mdia_matrix._add_sparse\u001b[1;34m(self, other)\u001b[0m\n\u001b[0;32m    261\u001b[0m         m\u001b[38;5;241m.\u001b[39msetdiag(m\u001b[38;5;241m.\u001b[39mdiagonal(d) \u001b[38;5;241m+\u001b[39m other\u001b[38;5;241m.\u001b[39mdiagonal(d), d)\n\u001b[0;32m    262\u001b[0m     \u001b[38;5;28;01melse\u001b[39;00m:\n\u001b[1;32m--> 263\u001b[0m         \u001b[43mm\u001b[49m\u001b[38;5;241;43m.\u001b[39;49m\u001b[43msetdiag\u001b[49m\u001b[43m(\u001b[49m\u001b[43mother\u001b[49m\u001b[38;5;241;43m.\u001b[39;49m\u001b[43mdiagonal\u001b[49m\u001b[43m(\u001b[49m\u001b[43md\u001b[49m\u001b[43m)\u001b[49m\u001b[43m,\u001b[49m\u001b[43m \u001b[49m\u001b[43md\u001b[49m\u001b[43m)\u001b[49m\n\u001b[0;32m    264\u001b[0m \u001b[38;5;28;01mreturn\u001b[39;00m m\n",
      "File \u001b[1;32m~\\anaconda3\\lib\\site-packages\\scipy\\sparse\\base.py:1161\u001b[0m, in \u001b[0;36mspmatrix.setdiag\u001b[1;34m(self, values, k)\u001b[0m\n\u001b[0;32m   1159\u001b[0m M, N \u001b[38;5;241m=\u001b[39m \u001b[38;5;28mself\u001b[39m\u001b[38;5;241m.\u001b[39mshape\n\u001b[0;32m   1160\u001b[0m \u001b[38;5;28;01mif\u001b[39;00m (k \u001b[38;5;241m>\u001b[39m \u001b[38;5;241m0\u001b[39m \u001b[38;5;129;01mand\u001b[39;00m k \u001b[38;5;241m>\u001b[39m\u001b[38;5;241m=\u001b[39m N) \u001b[38;5;129;01mor\u001b[39;00m (k \u001b[38;5;241m<\u001b[39m \u001b[38;5;241m0\u001b[39m \u001b[38;5;129;01mand\u001b[39;00m \u001b[38;5;241m-\u001b[39mk \u001b[38;5;241m>\u001b[39m\u001b[38;5;241m=\u001b[39m M):\n\u001b[1;32m-> 1161\u001b[0m     \u001b[38;5;28;01mraise\u001b[39;00m \u001b[38;5;167;01mValueError\u001b[39;00m(\u001b[38;5;124m\"\u001b[39m\u001b[38;5;124mk exceeds matrix dimensions\u001b[39m\u001b[38;5;124m\"\u001b[39m)\n\u001b[0;32m   1162\u001b[0m \u001b[38;5;28mself\u001b[39m\u001b[38;5;241m.\u001b[39m_setdiag(np\u001b[38;5;241m.\u001b[39masarray(values), k)\n",
      "\u001b[1;31mValueError\u001b[0m: k exceeds matrix dimensions"
     ]
    }
   ],
   "source": [
    "img_out = shadow_enhance(image)"
   ]
  },
  {
   "cell_type": "code",
   "execution_count": null,
   "id": "5be13448",
   "metadata": {},
   "outputs": [],
   "source": [
    "cv2.imshow(\"Final Result\",np.hstack([image,img_out]))\n",
    "cv2.waitKey(0)\n",
    "cv2.destroyAllWindows()"
   ]
  },
  {
   "cell_type": "code",
   "execution_count": null,
   "id": "1923d79a",
   "metadata": {},
   "outputs": [],
   "source": []
  },
  {
   "cell_type": "code",
   "execution_count": null,
   "id": "1f148520",
   "metadata": {},
   "outputs": [],
   "source": []
  }
 ],
 "metadata": {
  "kernelspec": {
   "display_name": "Python 3 (ipykernel)",
   "language": "python",
   "name": "python3"
  },
  "language_info": {
   "codemirror_mode": {
    "name": "ipython",
    "version": 3
   },
   "file_extension": ".py",
   "mimetype": "text/x-python",
   "name": "python",
   "nbconvert_exporter": "python",
   "pygments_lexer": "ipython3",
   "version": "3.9.12"
  },
  "vscode": {
   "interpreter": {
    "hash": "a5d4af56a2e7987301107af7338a2f4c12a3584e52162a713fa580e431dd5f3e"
   }
  }
 },
 "nbformat": 4,
 "nbformat_minor": 5
}
