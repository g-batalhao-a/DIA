{
 "cells": [
  {
   "cell_type": "code",
   "execution_count": 1,
   "id": "206f3180",
   "metadata": {},
   "outputs": [
    {
     "name": "stdout",
     "output_type": "stream",
     "text": [
      "Requirement already satisfied: opencv-python in c:\\users\\gbata\\appdata\\local\\packages\\pythonsoftwarefoundation.python.3.10_qbz5n2kfra8p0\\localcache\\local-packages\\python310\\site-packages (4.6.0.66)\n",
      "Requirement already satisfied: numpy>=1.17.3 in c:\\users\\gbata\\appdata\\local\\packages\\pythonsoftwarefoundation.python.3.10_qbz5n2kfra8p0\\localcache\\local-packages\\python310\\site-packages (from opencv-python) (1.23.2)\n"
     ]
    }
   ],
   "source": [
    "import sys\n",
    "!{sys.executable} -m pip install opencv-python"
   ]
  },
  {
   "cell_type": "code",
   "execution_count": 19,
   "id": "9ed63d71",
   "metadata": {},
   "outputs": [],
   "source": [
    "import cv2\n",
    "import numpy as np\n",
    "import math \n",
    "\n",
    "# Create the haar cascade\n",
    "faceCascade = cv2.CascadeClassifier(\"./data/haarcascade_frontalface_default.xml\")\n",
    "\n",
    "# Read the image\n",
    "image = cv2.imread(\"./data/side.jpg\")\n",
    "gray = cv2.cvtColor(image, cv2.COLOR_BGR2GRAY)\n",
    "lab = cv2.cvtColor(image, cv2.COLOR_BGR2Lab)\n",
    "hsv = cv2.cvtColor(image, cv2.COLOR_BGR2HSV)\n",
    "\n",
    "# Detect faces in the image\n",
    "faces = faceCascade.detectMultiScale(\n",
    "    gray,\n",
    "    scaleFactor=1.1,\n",
    "    minNeighbors=5,\n",
    "    minSize=(30, 30)\n",
    ")\n"
   ]
  },
  {
   "cell_type": "code",
   "execution_count": 20,
   "id": "64db8726",
   "metadata": {},
   "outputs": [],
   "source": [
    "# Draw a rectangle around the face and get the corresponding area\n",
    "for (x, y, w, h) in faces:\n",
    "    face = image[y:y+h,x:x+w]\n",
    "    face_gray= gray[y:y+h,x:x+w]\n",
    "    face_rect_lab = lab[y:y+h,x:x+w]\n",
    "    face_rect_hsv = hsv[y:y+h,x:x+w]\n",
    "\n",
    "cv2.imshow(\"Face Found\",image)\n",
    "cv2.waitKey(0)\n",
    "cv2.destroyAllWindows()\n",
    "cv2.imshow(\"Face Mask LAB\",face_rect_lab)\n",
    "cv2.waitKey(0)\n",
    "cv2.destroyAllWindows()\n",
    "cv2.imshow(\"Face Mask HSV\",face_rect_hsv)\n",
    "cv2.waitKey(0)\n",
    "cv2.destroyAllWindows()"
   ]
  },
  {
   "cell_type": "code",
   "execution_count": 21,
   "id": "a924a2d1",
   "metadata": {},
   "outputs": [],
   "source": [
    "from scipy.signal import convolve2d\n",
    "\n",
    "# Get skin mask\n",
    "def elipse_mask(a,b):\n",
    "    return ((a-143.0)/6.5)**2 + ((b-148.0)/12)**2\n",
    "\n",
    "def elipse_mask_imp(a,b):\n",
    "    return math.sqrt((a-143)**2+(b-148)**2)-90\n",
    "\n",
    "def hsv_mask(h,s):\n",
    "    return (s>=0.25 and s<=0.75) and h<=0.095\n",
    "\n",
    "\n",
    "def skin_detection():\n",
    "    skin_mask = np.zeros((face.shape[0],face.shape[1]))\n",
    "    avg_mask = np.ones((5,5))/25\n",
    "    a_mean = convolve2d(face_rect_lab[:,:,1],avg_mask,mode='same',boundary='symm')\n",
    "    b_mean = convolve2d(face_rect_lab[:,:,2],avg_mask,mode='same',boundary='symm')\n",
    "    ellipse_test = np.vectorize(lambda a,b: 1 if elipse_mask(a,b) < 1 else (math.sqrt((a-143)**2+(b-148)**2)-90)/-78 if elipse_mask_imp(a,b) < 0 else 0)\n",
    "    skin_mask = ellipse_test(a_mean,b_mean)\n",
    "    hsv_test = np.vectorize(lambda h,s,m: 1 if m > 0.95 and hsv_mask(h,s) else 0)\n",
    "    skin_mask = hsv_test(face_rect_hsv[:,:,0]/179.0,face_rect_hsv[:,:,1]/255.0,skin_mask)\n",
    "    large_ellipse_test = np.vectorize(lambda m,a,b: 1 if elipse_mask(a,b) < 1.25 and m == 1 else 0)\n",
    "    skin_mask = large_ellipse_test(skin_mask,a_mean,b_mean)\n",
    "\n",
    "    return skin_mask.astype(np.uint8)\n",
    "    \n",
    "skin_mask = skin_detection()\n",
    "\n",
    "skin = cv2.bitwise_and(face, face, mask = skin_mask)\n",
    "cv2.imshow(\"Skin Found\",np.hstack([face,skin]))\n",
    "cv2.waitKey(0)\n",
    "cv2.destroyAllWindows()"
   ]
  },
  {
   "cell_type": "code",
   "execution_count": 22,
   "id": "6646e85e",
   "metadata": {},
   "outputs": [],
   "source": [
    "# Adapted from https://github.com/drakeguan/cp11fall_project1/blob/master/wlsFilter/wlsFilter.m\n",
    "from scipy.sparse import spdiags\n",
    "from scipy.sparse.linalg import spsolve\n",
    "def wls_filter(img_l,alpha=1.2,l=0.5, eps=sys.float_info.epsilon):\n",
    "    \n",
    "    img_l = img_l.astype(float)/255.0\n",
    "    r,c = img_l.shape\n",
    "    k = r*c;\n",
    "\n",
    "    # Compute affinities between adjacent pixels based on gradients of L\n",
    "    dy = np.diff(img_l, 1, 0);\n",
    "    dy = -l / (np.absolute(dy)**alpha + eps)\n",
    "    dy = (np.vstack((dy, np.zeros(c, )))).flatten('F')\n",
    "\n",
    "    dx = np.diff(img_l, 1, 1); \n",
    "    dx = -l / (np.absolute(dx)**alpha + eps)\n",
    "    dx = (np.hstack((dx, np.zeros(r, )[:, np.newaxis]))).flatten('F')\n",
    "\n",
    "\n",
    "    # Construct a five-point spatially inhomogeneous Laplacian matrix\n",
    "    B = np.vstack((dx,dy))\n",
    "    d = [-r,-1]\n",
    "    A = spdiags(B,d,k,k)\n",
    "\n",
    "    e = dx\n",
    "    w = np.roll(dx,r)\n",
    "    s = dy\n",
    "    n = np.roll(dy,1)\n",
    "\n",
    "    D = 1 - (e+w+s+n);\n",
    "    A = A + A.T + spdiags(D, 0, k, k);\n",
    "\n",
    "    #Solve\n",
    "    OUT = spsolve(A, img_l.flatten('F')).reshape(img_l.shape[::-1])\n",
    "    \n",
    "    base = np.rollaxis(OUT,1)\n",
    "    detail = img_l - base\n",
    "    return (base,detail)\n",
    "\n",
    "\n"
   ]
  },
  {
   "cell_type": "code",
   "execution_count": 23,
   "id": "b9b91a20",
   "metadata": {},
   "outputs": [],
   "source": [
    "import matplotlib.pyplot as plt\n",
    "from scipy.signal import argrelextrema\n",
    "\n",
    "def hist_smoothing(skin,ksize=30,sigma=10):\n",
    "    intensity = (skin*255).clip(0,255).astype(np.uint8)\n",
    "    hist = cv2.calcHist([intensity],[0],None,[255],[1,256]).T.ravel()\n",
    "    plt.plot(hist)\n",
    "    plt.show()\n",
    "    hist = np.correlate(hist,cv2.getGaussianKernel(ksize,sigma).ravel(),'same')\n",
    "    plt.plot(hist)\n",
    "    plt.show()\n",
    "    return hist\n",
    "\n",
    "def bimodal_check(hist):\n",
    "    peaks = argrelextrema(hist,np.greater,order=5)[0]\n",
    "    if len(peaks) < 2:\n",
    "        return False, -1, -1, -1\n",
    "    max_peak = np.argmax(hist[peaks])\n",
    "    left = peaks[:max_peak]\n",
    "    right = peaks[max_peak+1:]\n",
    "    refined_peaks_left = argrelextrema(hist[left],np.greater_equal,order=1,mode='clip')[0]\n",
    "    refined_peaks_right = argrelextrema(hist[right],np.greater_equal,order=1,mode='clip')[0]\n",
    "    other_peak = -1\n",
    "    if len(refined_peaks_left) > 0 and len(refined_peaks_right) > 0:\n",
    "        other_peak = left[refined_peaks_left[0]] if refined_peaks_left[0] < refined_peaks_right[-1] else right[refined_peaks_right[-1]]\n",
    "    elif len(refined_peaks_left) > 0:\n",
    "        other_peak = left[refined_peaks_left[0]]\n",
    "    else:\n",
    "        other_peak = right[refined_peaks_right[-1]]      \n",
    "    if other_peak == -1:\n",
    "        dist_from_max = np.absolute(peaks-peaks[max_peak])\n",
    "        max_distant_peak = np.argmax(dist_from_max)\n",
    "        other_peak = peaks[max_distant_peak]       \n",
    "    d = peaks[max_peak] if peaks[max_peak] < other_peak else other_peak\n",
    "    b = peaks[max_peak] if peaks[max_peak] > other_peak else other_peak\n",
    "    m = np.argmin(hist[d:b])+d\n",
    "\n",
    "    return True, d, m, b"
   ]
  },
  {
   "cell_type": "code",
   "execution_count": 26,
   "id": "13c7794c",
   "metadata": {},
   "outputs": [],
   "source": [
    "\"\"\"\n",
    "Algorithm 1. CorrectFace(I,F,Mskin)\n",
    "Require: I – input image (luminance channel).\n",
    "Require: F – detected face rectangle.\n",
    "Require: Mskin – skin mask.\n",
    "Ensure: Iout – adjusted image (luminance channel).\n",
    "1: // Perform edge-preserving base/detail decomposition\n",
    "2: (Base,Detail) = W LSFilter(I)\n",
    "3: Iout = Base\n",
    "4: // Sidelight correction\n",
    "5: S = F Mskin // skin pixels inside F\n",
    "6: H = Smoothed histogram of intensities in Iout[S]\n",
    "7: if H is bimodal (sidelit face) then\n",
    "8: d = intensity of dark mode in H\n",
    "9: b = intensity of bright mode in H\n",
    "10: m = intensity at local minimum between d and b\n",
    "11: f = b−d m−d\n",
    "12: A = adjustment map scaling by f every pixel ∈ S\n",
    "with intensity ≤ m\n",
    "13: Apply edge-aware constraint propagation to A\n",
    "14: Iout = Iout ·A // pixelwise multiplication\n",
    "15: end if\n",
    "16: // Exposure Correction\n",
    "17: p = 75th percentile of face skin pixels S\n",
    "18: if p < 120 (underexposed face) then\n",
    "19: f = 120+p\n",
    "2p ; ensure 1 ≤ f ≤ 2\n",
    "20: A = adjustment map scaling by f every pixel ∈ S\n",
    "21: Apply edge-aware constraint propagation to A\n",
    "22: Iout = Iout ·A // pixelwise multiplication\n",
    "23: end if\n",
    "24: Iout+ = Detail\n",
    "\"\"\"\n",
    "\n",
    "def side_adjustment_map(skin, m, f, A):\n",
    "    if ((skin > 0) & (skin<=m)).all():\n",
    "        A[skin] = f\n",
    "    else:\n",
    "        A[skin] = 1\n",
    "\n",
    "    return A\n",
    "\n",
    "def exposed_adjustment_map(skin, f, A):\n",
    "    if skin.all()>0:\n",
    "        A[skin] = f\n",
    "    else:\n",
    "        A[skin] = 1\n",
    "    return A\n",
    "\n",
    "def correct_face(img, face, skin_mask):\n",
    "    # Perform edge-preserving base/detail decomposition\n",
    "    lab = cv2.cvtColor(img, cv2.COLOR_BGR2Lab)\n",
    "    (base, detail) = wls_filter(lab[:,:,0])\n",
    "    \n",
    "    cv2.imshow(\"Base\",base)\n",
    "    cv2.waitKey(0)\n",
    "    cv2.destroyAllWindows()\n",
    "    \n",
    "    img_out = base\n",
    "    \n",
    "    skin = cv2.bitwise_and(face, face, mask = skin_mask)\n",
    "\n",
    "    hist = hist_smoothing((skin*255).clip(0,255).astype(np.uint8))\n",
    "    \n",
    "    bimodal, d, b, m = bimodal_check(hist)\n",
    "    \n",
    "    # Sidelight correction\n",
    "    if bimodal:\n",
    "        print(\"Is bimodal\")\n",
    "        i_side = (img_out*255).clip(0,255).astype(np.uint8)\n",
    "        f = (b-d)/(m-d)\n",
    "        s = skin*255\n",
    "        A = np.ones(i_side.shape)\n",
    "        print(A[y:y+h,x:x+w].shape)\n",
    "        A = side_adjustment_map(s, m, f, A)\n",
    "        # Apply edge-aware constraint propagation to A\n",
    "        img_out = i_side * A  # pixelwise multiplication\n",
    "        cv2.imshow(\"Side \",img_out)\n",
    "        cv2.waitKey(0)\n",
    "        cv2.destroyAllWindows()\n",
    "    \n",
    "    # Exposure Correction\n",
    "    cum_sum = cv2.calcHist([(skin).astype('uint8')],[0],None,[255],[1,256]).T.ravel().cumsum()\n",
    "    plt.plot(cum_sum)\n",
    "    plt.show()\n",
    "    p = np.searchsorted(cum_sum, cum_sum[-1] * 0.75)\n",
    "    A = np.ones(img_out.shape)\n",
    "    if p < 120:\n",
    "        print(\"Is underexposed\")\n",
    "        i_exp = (img_out*255).clip(0,255).astype(np.uint8)\n",
    "        f = (120+p)/(2*p)\n",
    "        if f <= 2 and f >= 1:\n",
    "            A = np.ones(i_exp.shape)\n",
    "            A = exposed_adjustment_map(skin, f, A)\n",
    "            #Apply edge-aware constraint propagation to A\n",
    "            img_out = i_exp * A #pixelwise multiplication\n",
    "            cv2.imshow(\"Exp \",img_out)\n",
    "            cv2.waitKey(0)\n",
    "            cv2.destroyAllWindows()\n",
    "    \n",
    "    img_out+= detail\n",
    "    \n",
    "    return img_out"
   ]
  },
  {
   "cell_type": "code",
   "execution_count": 27,
   "id": "94339fae",
   "metadata": {},
   "outputs": [
    {
     "name": "stderr",
     "output_type": "stream",
     "text": [
      "C:\\Users\\gbata\\AppData\\Local\\Packages\\PythonSoftwareFoundation.Python.3.10_qbz5n2kfra8p0\\LocalCache\\local-packages\\Python310\\site-packages\\scipy\\sparse\\linalg\\_dsolve\\linsolve.py:168: SparseEfficiencyWarning: spsolve requires A be CSC or CSR matrix format\n",
      "  warn('spsolve requires A be CSC or CSR matrix format',\n"
     ]
    },
    {
     "data": {
      "image/png": "[encoded data removed]",
      "text/plain": [
       "<Figure size 432x288 with 1 Axes>"
      ]
     },
     "metadata": {
      "needs_background": "light"
     },
     "output_type": "display_data"
    },
    {
     "data": {
      "image/png": "[encoded data removed]",
      "text/plain": [
       "<Figure size 432x288 with 1 Axes>"
      ]
     },
     "metadata": {
      "needs_background": "light"
     },
     "output_type": "display_data"
    },
    {
     "name": "stdout",
     "output_type": "stream",
     "text": [
      "Is bimodal\n",
      "(335, 335)\n"
     ]
    },
    {
     "data": {
      "image/png": "[encoded data removed]",
      "text/plain": [
       "<Figure size 432x288 with 1 Axes>"
      ]
     },
     "metadata": {
      "needs_background": "light"
     },
     "output_type": "display_data"
    },
    {
     "name": "stdout",
     "output_type": "stream",
     "text": [
      "Is underexposed\n"
     ]
    }
   ],
   "source": [
    "img_out = correct_face(image,face,skin_mask)"
   ]
  },
  {
   "cell_type": "code",
   "execution_count": 93,
   "id": "5be13448",
   "metadata": {},
   "outputs": [],
   "source": [
    "cv2.imshow(\"Original\",gray)\n",
    "cv2.imshow(\"Final Result\",img_out)\n",
    "cv2.waitKey(0)\n",
    "cv2.destroyAllWindows()"
   ]
  },
  {
   "cell_type": "code",
   "execution_count": null,
   "id": "1923d79a",
   "metadata": {},
   "outputs": [],
   "source": []
  },
  {
   "cell_type": "code",
   "execution_count": null,
   "id": "1f148520",
   "metadata": {},
   "outputs": [],
   "source": []
  }
 ],
 "metadata": {
  "kernelspec": {
   "display_name": "Python 3 (ipykernel)",
   "language": "python",
   "name": "python3"
  },
  "language_info": {
   "codemirror_mode": {
    "name": "ipython",
    "version": 3
   },
   "file_extension": ".py",
   "mimetype": "text/x-python",
   "name": "python",
   "nbconvert_exporter": "python",
   "pygments_lexer": "ipython3",
   "version": "3.10.6"
  },
  "vscode": {
   "interpreter": {
    "hash": "a5d4af56a2e7987301107af7338a2f4c12a3584e52162a713fa580e431dd5f3e"
   }
  }
 },
 "nbformat": 4,
 "nbformat_minor": 5
}
