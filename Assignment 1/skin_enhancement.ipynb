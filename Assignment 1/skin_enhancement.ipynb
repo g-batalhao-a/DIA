{
 "cells": [
  {
   "cell_type": "code",
   "execution_count": 1,
   "id": "206f3180",
   "metadata": {},
   "outputs": [
    {
     "name": "stdout",
     "output_type": "stream",
     "text": [
      "Requirement already satisfied: opencv-contrib-python in c:\\users\\gbata\\anaconda3\\lib\\site-packages (4.6.0.66)\n",
      "Requirement already satisfied: numpy>=1.19.3 in c:\\users\\gbata\\anaconda3\\lib\\site-packages (from opencv-contrib-python) (1.23.2)\n"
     ]
    }
   ],
   "source": [
    "import sys\n",
    "!{sys.executable} -m pip install opencv-contrib-python --upgrade"
   ]
  },
  {
   "cell_type": "code",
   "execution_count": 2,
   "id": "9ed63d71",
   "metadata": {},
   "outputs": [],
   "source": [
    "import cv2\n",
    "import numpy as np\n",
    "import math \n",
    "\n",
    "# Create the haar cascade\n",
    "faceCascade = cv2.CascadeClassifier(\"./data/haarcascade_frontalface_default.xml\")\n",
    "\n",
    "# Read the image\n",
    "image = cv2.imread(\"./data/side.jpg\")\n",
    "rgb = cv2.cvtColor(image, cv2.COLOR_BGR2RGB)\n",
    "gray = cv2.cvtColor(image, cv2.COLOR_BGR2GRAY)\n",
    "lab = cv2.cvtColor(image, cv2.COLOR_BGR2Lab)\n",
    "hsv = cv2.cvtColor(image, cv2.COLOR_BGR2HSV)\n",
    "\n",
    "# Detect faces in the image\n",
    "faces = faceCascade.detectMultiScale(\n",
    "    gray,\n",
    "    scaleFactor=1.1,\n",
    "    minNeighbors=5,\n",
    "    minSize=(30, 30)\n",
    ")\n"
   ]
  },
  {
   "cell_type": "code",
   "execution_count": 3,
   "id": "64db8726",
   "metadata": {},
   "outputs": [],
   "source": [
    "# Draw a rectangle around the face and get the corresponding area\n",
    "for (x, y, w, h) in faces:\n",
    "    face = image[y:y+h,x:x+w]\n",
    "    face_rgb = rgb[y:y+h,x:x+w]\n",
    "    face_gray= gray[y:y+h,x:x+w]\n",
    "    face_rect_lab = lab[y:y+h,x:x+w]\n",
    "    face_rect_hsv = hsv[y:y+h,x:x+w]\n",
    "\n",
    "cv2.imshow(\"Face Found\",image)\n",
    "cv2.imshow(\"Face Mask RGB\",face_rgb)\n",
    "cv2.imshow(\"Face Mask LAB\",face_rect_lab)\n",
    "cv2.imshow(\"Face Mask HSV\",face_rect_hsv)\n",
    "cv2.waitKey(0)\n",
    "cv2.destroyAllWindows()"
   ]
  },
  {
   "cell_type": "code",
   "execution_count": 4,
   "id": "a924a2d1",
   "metadata": {},
   "outputs": [
    {
     "name": "stderr",
     "output_type": "stream",
     "text": [
      "C:\\Users\\gbata\\anaconda3\\lib\\site-packages\\scipy\\__init__.py:146: UserWarning: A NumPy version >=1.16.5 and <1.23.0 is required for this version of SciPy (detected version 1.23.2\n",
      "  warnings.warn(f\"A NumPy version >={np_minversion} and <{np_maxversion}\"\n"
     ]
    }
   ],
   "source": [
    "from scipy.signal import convolve2d\n",
    "\n",
    "# Get skin mask\n",
    "def elipse_mask(a,b):\n",
    "    return ((a-143.0)/6.5)**2 + ((b-148.0)/12)**2\n",
    "\n",
    "def hsv_mask(h,s):\n",
    "    return (s>=0.25 and s<=0.75) and h<=0.095\n",
    "\n",
    "\n",
    "def skin_detection():\n",
    "    l,a,b = cv2.split(face_rect_lab)\n",
    "    h,s,v = cv2.split(face_rect_hsv)\n",
    "    skin_mask = np.zeros((face.shape[0],face.shape[1]))\n",
    "    ellipse_test = np.vectorize(lambda a,b: 1 if elipse_mask(a,b) < 1 else 0)\n",
    "    skin_mask = ellipse_test(a,b)\n",
    "    hsv_test = np.vectorize(lambda h,s,m: 1 if m > 0.95 and hsv_mask(h,s) else 0)\n",
    "    skin_mask = hsv_test(h/179.0,s/255.0,skin_mask)\n",
    "    large_ellipse_test = np.vectorize(lambda m,a,b: 1 if elipse_mask(a,b) < 1.25 and m == 1 else 0)\n",
    "    skin_mask = large_ellipse_test(skin_mask,a,b)\n",
    "    return skin_mask.astype(np.uint8)\n",
    "\n",
    "def rgb_skin_detection():\n",
    "    b,g,r = cv2.split(face)\n",
    "    skin_mask = np.zeros((face.shape[0],face.shape[1]))\n",
    "    rgb_test = np.vectorize(lambda r,g,b: 1 if r > 95 and g > 40 and b > 20 and max(r,g,b) - min(r,g,b) > 15 and abs(r-g) > 15 and r > g and r > b else 0)\n",
    "    skin_mask = rgb_test(r,g,b)\n",
    "    return skin_mask.astype(np.uint8)  \n",
    "    \n",
    "skin_mask = skin_detection()\n",
    "rgb_skin_mask = rgb_skin_detection()\n",
    "final_skin_mask = cv2.bitwise_or(skin_mask,rgb_skin_mask)\n",
    "\n",
    "skin = cv2.bitwise_and(face, face, mask = skin_mask)\n",
    "rgb_skin = cv2.bitwise_and(face, face, mask = rgb_skin_mask)\n",
    "final_skin = cv2.bitwise_and(face, face, mask = final_skin_mask)\n",
    "cv2.imshow(\"Skin Found\",np.hstack([face,skin]))\n",
    "cv2.imshow(\"RGB Skin Found\",np.hstack([face,rgb_skin]))\n",
    "cv2.imshow(\"Final Skin Found\",np.hstack([face,final_skin]))\n",
    "cv2.waitKey(0)\n",
    "cv2.destroyAllWindows()"
   ]
  },
  {
   "cell_type": "code",
   "execution_count": 5,
   "id": "6646e85e",
   "metadata": {},
   "outputs": [],
   "source": [
    "# Adapted from https://github.com/drakeguan/cp11fall_project1/blob/master/wlsFilter/wlsFilter.m\n",
    "from scipy.sparse import spdiags\n",
    "from scipy.sparse.linalg import spsolve\n",
    "def wls_filter(img_l,alpha=1.0,l=0.5, eps=sys.float_info.epsilon):\n",
    "    \n",
    "    img_l = img_l.astype(float)/255.0\n",
    "    r,c = img_l.shape\n",
    "    k = r*c\n",
    "\n",
    "    # Compute affinities between adjacent pixels based on gradients of L\n",
    "    dy = np.diff(img_l, 1, 0);\n",
    "    dy = -l / (np.absolute(dy)**alpha + eps)\n",
    "    dy = (np.vstack((dy, np.zeros(c, )))).flatten('F')\n",
    "\n",
    "    dx = np.diff(img_l, 1, 1); \n",
    "    dx = -l / (np.absolute(dx)**alpha + eps)\n",
    "    dx = (np.hstack((dx, np.zeros(r, )[:, np.newaxis]))).flatten('F')\n",
    "\n",
    "\n",
    "    # Construct a five-point spatially inhomogeneous Laplacian matrix\n",
    "    B = np.vstack((dx,dy))\n",
    "    d = [-r,-1]\n",
    "    A = spdiags(B,d,k,k)\n",
    "\n",
    "    e = dx\n",
    "    w = np.roll(dx,r)\n",
    "    s = dy\n",
    "    n = np.roll(dy,1)\n",
    "\n",
    "    D = 1 - (e+w+s+n);\n",
    "    A = A + A.T + spdiags(D, 0, k, k);\n",
    "\n",
    "    #Solve\n",
    "    OUT = spsolve(A, img_l.flatten('F')).reshape(img_l.shape[::-1])\n",
    "    \n",
    "    base = np.rollaxis(OUT,1)\n",
    "    detail = img_l - base\n",
    "    return base,detail"
   ]
  },
  {
   "cell_type": "code",
   "execution_count": 6,
   "id": "b9b91a20",
   "metadata": {},
   "outputs": [],
   "source": [
    "import matplotlib.pyplot as plt\n",
    "from scipy.signal import argrelextrema\n",
    "\n",
    "#Change params depending on smoothing\n",
    "def smoothing(skin):\n",
    "    intensity = (skin*255).clip(0, 255).astype(np.uint8)\n",
    "    hist = cv2.calcHist([intensity], [0], None, [256], [1, 256])\n",
    "    histT_list = hist.T.ravel()\n",
    "    return np.correlate(histT_list, cv2.getGaussianKernel(\n",
    "        40, 20).ravel(), 'same')\n",
    "\n",
    "\n",
    "def find_accurate_peaks(hist):\n",
    "    return argrelextrema(hist, np.greater_equal, order=1)[0]\n",
    "\n",
    "def find_s_peak(l,r,left,right,peaks,f_peak):\n",
    "    s_peak = None\n",
    "    if len(left) > 0 and len(right) > 0:\n",
    "        if left[0]<right[-1]:\n",
    "            s_peak = l[left[0]]\n",
    "        else:\n",
    "            s_peak = r[right[-1]]\n",
    "    elif len(right) > 0:\n",
    "        s_peak = r[right[-1]]\n",
    "    else:\n",
    "        s_peak = l[left[0]]\n",
    "\n",
    "    if s_peak is None:\n",
    "        dist = np.argmax(np.absolute(peaks-peaks[f_peak]))\n",
    "        s_peak = peaks[dist]\n",
    "    return s_peak\n",
    "\n",
    "\n",
    "def bimodal_check(hist):\n",
    "    peaks = argrelextrema(hist, np.greater, order=3)[0]\n",
    "    if len(peaks) < 2: return False, None, None, None\n",
    "    f_peak = np.argmax(hist[peaks])\n",
    "    left, right = peaks[:f_peak], peaks[f_peak+1:]\n",
    "    true_left, true_right = find_accurate_peaks(hist[left]), find_accurate_peaks(hist[right])\n",
    "    s_peak = find_s_peak(left,right,true_left,true_right,peaks,f_peak)\n",
    "    d, b = peaks[f_peak] if peaks[f_peak] < s_peak else s_peak, peaks[f_peak] if peaks[f_peak] > s_peak else s_peak\n",
    "    print(d,b)\n",
    "    m = np.argmin(hist[d:b])+d\n",
    "    return True, d, m, b\n"
   ]
  },
  {
   "cell_type": "code",
   "execution_count": 7,
   "id": "13c7794c",
   "metadata": {},
   "outputs": [],
   "source": [
    "\"\"\"\n",
    "Algorithm 1. CorrectFace(I,F,Mskin)\n",
    "Require: I – input image (luminance channel).\n",
    "Require: F – detected face rectangle.\n",
    "Require: Mskin – skin mask.\n",
    "Ensure: Iout – adjusted image (luminance channel).\n",
    "1: // Perform edge-preserving base/detail decomposition\n",
    "2: (Base,Detail) = W LSFilter(I)\n",
    "3: Iout = Base\n",
    "4: // Sidelight correction\n",
    "5: S = F Mskin // skin pixels inside F\n",
    "6: H = Smoothed histogram of intensities in Iout[S]\n",
    "7: if H is bimodal (sidelit face) then\n",
    "8: d = intensity of dark mode in H\n",
    "9: b = intensity of bright mode in H\n",
    "10: m = intensity at local minimum between d and b\n",
    "11: f = b−d m−d\n",
    "12: A = adjustment map scaling by f every pixel ∈ S\n",
    "with intensity ≤ m\n",
    "13: Apply edge-aware constraint propagation to A\n",
    "14: Iout = Iout ·A // pixelwise multiplication\n",
    "15: end if\n",
    "16: // Exposure Correction\n",
    "17: p = 75th percentile of face skin pixels S\n",
    "18: if p < 120 (underexposed face) then\n",
    "19: f = 120+p/2p ; ensure 1 ≤ f ≤ 2\n",
    "20: A = adjustment map scaling by f every pixel ∈ S\n",
    "21: Apply edge-aware constraint propagation to A\n",
    "22: Iout = Iout ·A // pixelwise multiplication\n",
    "23: end if\n",
    "24: Iout+ = Detail\n",
    "\"\"\"\n",
    "\n",
    "def sidelit_correction(base,skin,d,m,b,x,y,w,h):\n",
    "    base = (base*255).clip(0,255).astype(np.uint8)\n",
    "    skin = skin*255\n",
    "    f = (b-d)/(m-d)\n",
    "    A = np.ones(base.shape)\n",
    "    A[y:y+h,x:x+w][(skin<=m) & (skin>0)] = f\n",
    "    A =  cv2.edgePreservingFilter(A,30, 10)\n",
    "    cv2.imshow(\"Sidelit\",np.hstack([base,base*A]))\n",
    "    cv2.waitKey(0)\n",
    "    cv2.destroyAllWindows()\n",
    "    return base*A\n",
    "\n",
    "def exposure_correction(base,skin,p,x,y,w,h):\n",
    "    base = (base*255).clip(0,255).astype(np.uint8)\n",
    "    skin = skin*255\n",
    "    f = (120+p)/(2*p)\n",
    "    f = np.clip(f,1,2)\n",
    "    A = np.ones(base.shape)\n",
    "    A[y:y+h,x:x+w][skin>0] = f\n",
    "    A = cv2.edgePreservingFilter(A,30,10)\n",
    "    cv2.imshow(\"Underexposed\",np.hstack([base,base*A]))\n",
    "    cv2.waitKey(0)\n",
    "    cv2.destroyAllWindows()\n",
    "    return base * A\n",
    "\n",
    "def correct_face(img,face,skin_mask):\n",
    "    # Perform edge-preserving base/detail decomposition\n",
    "    lab = cv2.cvtColor(img, cv2.COLOR_BGR2Lab)\n",
    "    l,a,b = cv2.split(lab)\n",
    "    base,detail = wls_filter(l)\n",
    "    cv2.imshow(\"Base\",base)\n",
    "    cv2.waitKey(0)\n",
    "    cv2.destroyAllWindows()\n",
    "    #S = F Mskin // skin pixels inside F\n",
    "    face_base = base[y:y+h,x:x+w]\n",
    "    skin = cv2.bitwise_and(face_base, face_base, mask = skin_mask)\n",
    "    cv2.imshow(\"Skin Found\",np.hstack([face_base,skin]))\n",
    "    cv2.waitKey(0)\n",
    "    cv2.destroyAllWindows()\n",
    "    #H = Smoothed histogram of intensities in Iout[S]\n",
    "    hist = smoothing(skin)\n",
    "    plt.plot(hist)\n",
    "    plt.show()\n",
    "    # Sidelight correction\n",
    "    sidelit, d, m, b = bimodal_check(hist)\n",
    "    if sidelit:\n",
    "        print(\"Bimodal\")\n",
    "        base = sidelit_correction(base,skin,d,m,b,x,y,w,h)\n",
    "    \n",
    "    # Exposure Correction\n",
    "    face_base = base[y:y+h,x:x+w]\n",
    "    skin = cv2.bitwise_and(face_base, face_base, mask = skin_mask)\n",
    "    cv2.imshow(\"Skin Found\",np.hstack([face_base,skin]))\n",
    "    cv2.waitKey(0)\n",
    "    cv2.destroyAllWindows()\n",
    "    p = np.percentile(img[skin],75)\n",
    "    if p < 120:\n",
    "        print(\"Underexposed\")\n",
    "        base = exposure_correction(base,skin,p,x,y,w,h)\n",
    "\n",
    "    lab[:,:,0] = (base+detail*255).clip(0,255)\n",
    "    return cv2.cvtColor(lab, cv2.COLOR_Lab2BGR)\n",
    "\n"
   ]
  },
  {
   "cell_type": "code",
   "execution_count": 8,
   "id": "94339fae",
   "metadata": {},
   "outputs": [
    {
     "name": "stderr",
     "output_type": "stream",
     "text": [
      "C:\\Users\\gbata\\anaconda3\\lib\\site-packages\\scipy\\sparse\\linalg\\dsolve\\linsolve.py:144: SparseEfficiencyWarning: spsolve requires A be CSC or CSR matrix format\n",
      "  warn('spsolve requires A be CSC or CSR matrix format',\n"
     ]
    },
    {
     "data": {
      "image/png": "[encoded data removed]",
      "text/plain": [
       "<Figure size 432x288 with 1 Axes>"
      ]
     },
     "metadata": {
      "needs_background": "light"
     },
     "output_type": "display_data"
    },
    {
     "name": "stdout",
     "output_type": "stream",
     "text": [
      "95 183\n",
      "Bimodal\n"
     ]
    }
   ],
   "source": [
    "img_out = correct_face(image,face,final_skin_mask)"
   ]
  },
  {
   "cell_type": "code",
   "execution_count": 9,
   "id": "5be13448",
   "metadata": {},
   "outputs": [],
   "source": [
    "cv2.imshow(\"Original\",image)\n",
    "cv2.imshow(\"Final Result\",img_out)\n",
    "cv2.waitKey(0)\n",
    "cv2.destroyAllWindows()"
   ]
  },
  {
   "cell_type": "code",
   "execution_count": null,
   "id": "80af5e94",
   "metadata": {},
   "outputs": [],
   "source": []
  }
 ],
 "metadata": {
  "kernelspec": {
   "display_name": "Python 3 (ipykernel)",
   "language": "python",
   "name": "python3"
  },
  "language_info": {
   "codemirror_mode": {
    "name": "ipython",
    "version": 3
   },
   "file_extension": ".py",
   "mimetype": "text/x-python",
   "name": "python",
   "nbconvert_exporter": "python",
   "pygments_lexer": "ipython3",
   "version": "3.10.7"
  },
  "vscode": {
   "interpreter": {
    "hash": "a5d4af56a2e7987301107af7338a2f4c12a3584e52162a713fa580e431dd5f3e"
   }
  }
 },
 "nbformat": 4,
 "nbformat_minor": 5
}
