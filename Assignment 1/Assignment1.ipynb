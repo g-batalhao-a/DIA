{
 "cells": [
  {
   "cell_type": "code",
   "execution_count": 2,
   "id": "206f3180",
   "metadata": {},
   "outputs": [
    {
     "name": "stdout",
     "output_type": "stream",
     "text": [
      "Collecting opencv-python\n",
      "  Downloading opencv_python-4.6.0.66-cp36-abi3-win_amd64.whl (35.6 MB)\n",
      "     -------------------------------------- 35.6/35.6 MB 317.8 kB/s eta 0:00:00\n",
      "Requirement already satisfied: numpy>=1.17.3 in c:\\users\\gbata\\anaconda3\\lib\\site-packages (from opencv-python) (1.23.2)\n",
      "Installing collected packages: opencv-python\n",
      "Successfully installed opencv-python-4.6.0.66\n"
     ]
    }
   ],
   "source": [
    "import sys\n",
    "!{sys.executable} -m pip install opencv-python"
   ]
  },
  {
   "cell_type": "code",
   "execution_count": 43,
   "id": "9ed63d71",
   "metadata": {},
   "outputs": [],
   "source": [
    "import cv2\n",
    "import numpy as np\n",
    "\n",
    "# Create the haar cascade\n",
    "faceCascade = cv2.CascadeClassifier(\"./data/haarcascade_frontalface_default.xml\")\n",
    "\n",
    "# Read the image\n",
    "image = cv2.imread(\"./data/well_lit.png\")\n",
    "gray = cv2.cvtColor(image, cv2.COLOR_BGR2GRAY)\n",
    "lab = cv2.cvtColor(image, cv2.COLOR_BGR2Lab)\n",
    "hsv = cv2.cvtColor(image, cv2.COLOR_BGR2HSV)\n",
    "\n",
    "# Detect faces in the image\n",
    "faces = faceCascade.detectMultiScale(\n",
    "    gray,\n",
    "    scaleFactor=1.1,\n",
    "    minNeighbors=5,\n",
    "    minSize=(30, 30)\n",
    ")\n"
   ]
  },
  {
   "cell_type": "code",
   "execution_count": 44,
   "id": "64db8726",
   "metadata": {},
   "outputs": [],
   "source": [
    "# Draw a rectangle around the face and get the corresponding area\n",
    "for (x, y, w, h) in faces:\n",
    "    face = image[y:y+h,x:x+w]\n",
    "    face_gray= gray[y:y+h,x:x+w]\n",
    "    face_rect_lab = lab[y:y+h,x:x+w]\n",
    "    face_rect_hsv = hsv[y:y+h,x:x+w]\n",
    "\n",
    "cv2.imshow(\"Face Found\",image)\n",
    "cv2.waitKey(0)\n",
    "cv2.destroyAllWindows()\n",
    "cv2.imshow(\"Face Mask LAB\",face_rect_lab)\n",
    "cv2.waitKey(0)\n",
    "cv2.destroyAllWindows()\n",
    "cv2.imshow(\"Face Mask HSV\",face_rect_hsv)\n",
    "cv2.waitKey(0)\n",
    "cv2.destroyAllWindows()"
   ]
  },
  {
   "cell_type": "code",
   "execution_count": 51,
   "id": "a924a2d1",
   "metadata": {},
   "outputs": [
    {
     "name": "stdout",
     "output_type": "stream",
     "text": [
      "[[0.04 0.04 0.04 0.04 0.04]\n",
      " [0.04 0.04 0.04 0.04 0.04]\n",
      " [0.04 0.04 0.04 0.04 0.04]\n",
      " [0.04 0.04 0.04 0.04 0.04]\n",
      " [0.04 0.04 0.04 0.04 0.04]] [[130.08 130.08 130.28 ... 130.32 130.68 130.84]\n",
      " [130.   130.   130.24 ... 130.64 130.92 131.  ]\n",
      " [130.   130.04 130.28 ... 131.2  131.4  131.36]\n",
      " ...\n",
      " [129.   129.   129.   ... 129.48 129.8  130.  ]\n",
      " [129.   129.   129.   ... 129.44 129.8  130.  ]\n",
      " [129.   129.   129.   ... 129.4  129.8  130.  ]] [[133.88 133.96 134.04 ... 135.8  135.76 135.68]\n",
      " [133.92 133.96 134.04 ... 135.6  135.64 135.72]\n",
      " [133.88 133.88 133.96 ... 135.76 135.84 136.08]\n",
      " ...\n",
      " [128.   128.   128.   ... 127.56 127.2  127.  ]\n",
      " [128.   128.   128.   ... 127.6  127.2  127.  ]\n",
      " [128.   128.   128.   ... 127.6  127.2  127.  ]]\n",
      "(395, 395)\n",
      "(395, 395)\n"
     ]
    }
   ],
   "source": [
    "from scipy.signal import convolve2d\n",
    "\n",
    "# Get skin mask\n",
    "def elipse_mask(a,b):\n",
    "    return ((a-143.0)/6.5)**2 + ((b-148.0)/12)**2\n",
    "\n",
    "def hsv_mask(h,s):\n",
    "    return (s>=0.25 and s<=0.75) and h<=0.095\n",
    "\n",
    "\n",
    "def skin_detection():\n",
    "    skin_mask = np.zeros((face.shape[0],face.shape[1]))\n",
    "    avg_mask = np.ones((5,5))/25\n",
    "    a_mean = convolve2d(face_rect_lab[:,:,1],avg_mask,mode='same',boundary='symm')\n",
    "    b_mean = convolve2d(face_rect_lab[:,:,2],avg_mask,mode='same',boundary='symm')\n",
    "    ellipse_test = np.vectorize(lambda a,b: 1 if elipse_mask(a,b) < 1 else 0)\n",
    "    skin_mask = ellipse_test(a_mean,b_mean)\n",
    "    print(avg_mask, a_mean,b_mean)\n",
    "    hsv_test = np.vectorize(lambda h,s,m: 1 if m == 1 and hsv_mask(h,s) else 0)\n",
    "    skin_mask = hsv_test(face_rect_hsv[:,:,0]/179.0,face_rect_hsv[:,:,0]/255.0,skin_mask)\n",
    "    #large_ellipse_test = np.vectorize(lambda m,a,b: 1 if elipse_mask(a,b) < 1.25 and m == 1 else 0)\n",
    "    #skin_mask = large_ellipse_test(skin_mask,a_mean,b_mean)\n",
    "    return skin_mask.astype(np.uint8)\n",
    "    \n",
    "skin_mask = skin_detection()\n",
    "print(skin_mask.shape)\n",
    "print(face_gray.shape)\n",
    "skin = cv2.bitwise_and(face, face, mask = skin_mask)\n",
    "cv2.imshow(\"Skin Found\",np.hstack([face,skin]))\n",
    "cv2.waitKey(0)\n",
    "cv2.destroyAllWindows()"
   ]
  },
  {
   "cell_type": "code",
   "execution_count": null,
   "id": "13c7794c",
   "metadata": {},
   "outputs": [],
   "source": [
    "\"\"\"\n",
    "Algorithm 1. CorrectFace(I,F,Mskin)\n",
    "Require: I – input image (luminance channel).\n",
    "Require: F – detected face rectangle.\n",
    "Require: Mskin – skin mask.\n",
    "Ensure: Iout – adjusted image (luminance channel).\n",
    "1: // Perform edge-preserving base/detail decomposition\n",
    "2: (Base,Detail) = W LSFilter(I)\n",
    "3: Iout = Base\n",
    "4: // Sidelight correction\n",
    "5: S = F Mskin // skin pixels inside F\n",
    "6: H = Smoothed histogram of intensities in Iout[S]\n",
    "7: if H is bimodal (sidelit face) then\n",
    "8: d = intensity of dark mode in H\n",
    "9: b = intensity of bright mode in H\n",
    "10: m = intensity at local minimum between d and b\n",
    "11: f = b−d m−d\n",
    "12: A = adjustment map scaling by f every pixel ∈ S\n",
    "with intensity ≤ m\n",
    "13: Apply edge-aware constraint propagation to A\n",
    "14: Iout = Iout ·A // pixelwise multiplication\n",
    "15: end if\n",
    "16: // Exposure Correction\n",
    "17: p = 75th percentile of face skin pixels S\n",
    "18: if p < 120 (underexposed face) then\n",
    "19: f = 120+p\n",
    "2p ; ensure 1 ≤ f ≤ 2\n",
    "20: A = adjustment map scaling by f every pixel ∈ S\n",
    "21: Apply edge-aware constraint propagation to A\n",
    "22: Iout = Iout ·A // pixelwise multiplication\n",
    "23: end if\n",
    "24: Iout+ = Detail\n",
    "\"\"\""
   ]
  }
 ],
 "metadata": {
  "kernelspec": {
   "display_name": "Python 3 (ipykernel)",
   "language": "python",
   "name": "python3"
  },
  "language_info": {
   "codemirror_mode": {
    "name": "ipython",
    "version": 3
   },
   "file_extension": ".py",
   "mimetype": "text/x-python",
   "name": "python",
   "nbconvert_exporter": "python",
   "pygments_lexer": "ipython3",
   "version": "3.9.12"
  }
 },
 "nbformat": 4,
 "nbformat_minor": 5
}
