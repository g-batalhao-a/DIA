{
 "cells": [
  {
   "cell_type": "code",
   "execution_count": 1,
   "id": "206f3180",
   "metadata": {},
   "outputs": [
    {
     "name": "stdout",
     "output_type": "stream",
     "text": [
      "Requirement already satisfied: opencv-contrib-python in c:\\users\\gbata\\anaconda3\\lib\\site-packages (4.6.0.66)\n",
      "Requirement already satisfied: numpy>=1.14.5 in c:\\users\\gbata\\anaconda3\\lib\\site-packages (from opencv-contrib-python) (1.23.2)\n"
     ]
    }
   ],
   "source": [
    "import sys\n",
    "!{sys.executable} -m pip install opencv-contrib-python --upgrade"
   ]
  },
  {
   "cell_type": "code",
   "execution_count": 2,
   "id": "9ed63d71",
   "metadata": {},
   "outputs": [],
   "source": [
    "import cv2\n",
    "import numpy as np\n",
    "import math \n",
    "\n",
    "# Create the haar cascade\n",
    "faceCascade = cv2.CascadeClassifier(\"./data/haarcascade_frontalface_default.xml\")\n",
    "\n",
    "# Read the image\n",
    "image = cv2.imread(\"./data/side.jpg\", 1)\n",
    "cv2.imshow(\"Image\",image)\n",
    "cv2.waitKey(0)\n",
    "cv2.destroyAllWindows()\n"
   ]
  },
  {
   "cell_type": "code",
   "execution_count": 55,
   "id": "6646e85e",
   "metadata": {},
   "outputs": [],
   "source": [
    "# Adapted from https://github.com/drakeguan/cp11fall_project1/blob/master/wlsFilter/wlsFilter.m\n",
    "from scipy.sparse import spdiags\n",
    "from scipy.sparse.linalg import spsolve\n",
    "def wls_filter(img_l,alpha=1.2,l=0.5, eps=sys.float_info.epsilon):\n",
    "\n",
    "    img_l = img_l.astype(float)/255.0\n",
    "\n",
    "    r,c = img_l.shape\n",
    "    k = r*c;\n",
    "\n",
    "    # Compute affinities between adjacent pixels based on gradients of L\n",
    "    dy = np.diff(img_l, 1, 0);\n",
    "    dy = -l / (np.absolute(dy)**alpha + eps)\n",
    "    dy = (np.vstack((dy, np.zeros(c, )))).flatten('F')\n",
    "\n",
    "    dx = np.diff(img_l, 1, 1); \n",
    "    dx = -l / (np.absolute(dx)**alpha + eps)\n",
    "    dx = (np.hstack((dx, np.zeros(r, )[:, np.newaxis]))).flatten('F')\n",
    "\n",
    "\n",
    "    # Construct a five-point spatially inhomogeneous Laplacian matrix\n",
    "    B = np.vstack((dx,dy))\n",
    "    d = [-r,-1]\n",
    "    A = spdiags(B,d,k,k)\n",
    "\n",
    "    e = dx\n",
    "    w = np.roll(dx,r)\n",
    "    s = dy\n",
    "    n = np.roll(dy,1)\n",
    "\n",
    "    D = 1 - (e+w+s+n)\n",
    "    A = A + A.T + spdiags(D, 0, k, k)\n",
    "\n",
    "    #Solve\n",
    "    OUT = spsolve(A, img_l.flatten('F')).reshape(img_l.shape[::-1])\n",
    "    \n",
    "    base = np.rollaxis(OUT,1)\n",
    "    detail = img_l - base\n",
    "    return (base,detail)"
   ]
  },
  {
   "cell_type": "code",
   "execution_count": 59,
   "id": "13c7794c",
   "metadata": {},
   "outputs": [],
   "source": [
    "import matplotlib.pyplot as plt\n",
    "\n",
    "def shadow_enhance(img):\n",
    "    # Perform edge-preserving base/detail decomposition\n",
    "    lab = cv2.cvtColor(img, cv2.COLOR_BGR2Lab)\n",
    "    l,a,b = cv2.split(lab)\n",
    "    (base, detail) = wls_filter(l)\n",
    "    \n",
    "    base = (base*255).clip(0,255).astype(np.uint8)\n",
    "    saliency = cv2.saliency.StaticSaliencyFineGrained_create()\n",
    "    (success, saliencyMap) = saliency.computeSaliency(img)\n",
    "    cv2.imshow(\"Output\", saliencyMap)\n",
    "    cv2.waitKey(0)\n",
    "    cv2.destroyAllWindows()\n",
    "    \n",
    "    dark = (l<50) & (np.maximum.reduce([l,a,b])-np.minimum.reduce([l,a,b])>5)\n",
    "    d = l[dark].reshape(-1,1)\n",
    "    #d_base,d_detail = wls_filter(d)\n",
    "    bright = l[~dark]\n",
    "    f_sal = min(2.0,(np.percentile(bright,35))/(np.percentile(d,95)))\n",
    "    new_base = f_sal*saliencyMap*base + (1-saliencyMap)*base\n",
    "    lab[:,:,0] = (new_base+detail*255).clip(0,255).astype(int)\n",
    "    img_out = cv2.cvtColor(lab,cv2.COLOR_Lab2BGR)\n",
    "    \n",
    "    return img_out"
   ]
  },
  {
   "cell_type": "code",
   "execution_count": 60,
   "id": "94339fae",
   "metadata": {},
   "outputs": [],
   "source": [
    "img_out = shadow_enhance(image)"
   ]
  },
  {
   "cell_type": "code",
   "execution_count": 61,
   "id": "5be13448",
   "metadata": {},
   "outputs": [],
   "source": [
    "cv2.imshow(\"Final Result\",np.hstack([image,img_out]))\n",
    "cv2.waitKey(0)\n",
    "cv2.destroyAllWindows()"
   ]
  }
 ],
 "metadata": {
  "kernelspec": {
   "display_name": "Python 3 (ipykernel)",
   "language": "python",
   "name": "python3"
  },
  "language_info": {
   "codemirror_mode": {
    "name": "ipython",
    "version": 3
   },
   "file_extension": ".py",
   "mimetype": "text/x-python",
   "name": "python",
   "nbconvert_exporter": "python",
   "pygments_lexer": "ipython3",
   "version": "3.9.12"
  },
  "vscode": {
   "interpreter": {
    "hash": "a5d4af56a2e7987301107af7338a2f4c12a3584e52162a713fa580e431dd5f3e"
   }
  }
 },
 "nbformat": 4,
 "nbformat_minor": 5
}
