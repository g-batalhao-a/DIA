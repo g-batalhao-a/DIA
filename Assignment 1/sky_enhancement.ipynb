{
 "cells": [
  {
   "cell_type": "code",
   "execution_count": 1,
   "metadata": {},
   "outputs": [
    {
     "name": "stdout",
     "output_type": "stream",
     "text": [
      "Requirement already satisfied: opencv-contrib-python in c:\\users\\gbata\\anaconda3\\lib\\site-packages (4.6.0.66)\n",
      "Requirement already satisfied: numpy>=1.14.5 in c:\\users\\gbata\\anaconda3\\lib\\site-packages (from opencv-contrib-python) (1.23.2)\n"
     ]
    },
    {
     "name": "stderr",
     "output_type": "stream",
     "text": [
      "WARNING: Retrying (Retry(total=4, connect=None, read=None, redirect=None, status=None)) after connection broken by 'NewConnectionError('<pip._vendor.urllib3.connection.HTTPSConnection object at 0x0000022D10CD8880>: Failed to establish a new connection: [Errno 11001] getaddrinfo failed')': /simple/opencv-contrib-python/\n",
      "WARNING: Retrying (Retry(total=3, connect=None, read=None, redirect=None, status=None)) after connection broken by 'NewConnectionError('<pip._vendor.urllib3.connection.HTTPSConnection object at 0x0000022D10CD8BB0>: Failed to establish a new connection: [Errno 11001] getaddrinfo failed')': /simple/opencv-contrib-python/\n",
      "WARNING: Retrying (Retry(total=2, connect=None, read=None, redirect=None, status=None)) after connection broken by 'NewConnectionError('<pip._vendor.urllib3.connection.HTTPSConnection object at 0x0000022D10CD8D60>: Failed to establish a new connection: [Errno 11001] getaddrinfo failed')': /simple/opencv-contrib-python/\n",
      "WARNING: Retrying (Retry(total=1, connect=None, read=None, redirect=None, status=None)) after connection broken by 'NewConnectionError('<pip._vendor.urllib3.connection.HTTPSConnection object at 0x0000022D10CD8F40>: Failed to establish a new connection: [Errno 11001] getaddrinfo failed')': /simple/opencv-contrib-python/\n",
      "WARNING: Retrying (Retry(total=0, connect=None, read=None, redirect=None, status=None)) after connection broken by 'NewConnectionError('<pip._vendor.urllib3.connection.HTTPSConnection object at 0x0000022D10D03280>: Failed to establish a new connection: [Errno 11001] getaddrinfo failed')': /simple/opencv-contrib-python/\n"
     ]
    },
    {
     "name": "stdout",
     "output_type": "stream",
     "text": [
      "Requirement already satisfied: colorthief in c:\\users\\gbata\\anaconda3\\lib\\site-packages (0.2.1)\n",
      "Requirement already satisfied: Pillow in c:\\users\\gbata\\anaconda3\\lib\\site-packages (from colorthief) (9.0.1)\n"
     ]
    }
   ],
   "source": [
    "import sys\n",
    "!{sys.executable} -m pip install opencv-contrib-python --upgrade\n",
    "!{sys.executable} -m pip install colorthief"
   ]
  },
  {
   "cell_type": "code",
   "execution_count": 2,
   "metadata": {},
   "outputs": [],
   "source": [
    "import cv2\n",
    "import numpy as np\n",
    "import math\n",
    "from colorthief import ColorThief\n",
    "import time\n",
    "\n",
    "# Read the image\n",
    "image = cv2.imread(\"./data/side.jpg\")\n",
    "\n",
    "cv2.imshow(\"Original\", image)\n",
    "cv2.waitKey(0)\n",
    "cv2.destroyAllWindows()\n"
   ]
  },
  {
   "cell_type": "code",
   "execution_count": 3,
   "metadata": {},
   "outputs": [],
   "source": [
    "def get_swatch_from_img(img, txt):\n",
    "    vertex = []\n",
    "    copy = img.copy()\n",
    "\n",
    "    def swatch(e, x, y, f, param):\n",
    "        if e == cv2.EVENT_LBUTTONDOWN:\n",
    "            vertex.append((x, y))\n",
    "            if len(vertex) % 2 == 0:\n",
    "                cv2.rectangle(copy, vertex[-2], vertex[-1], (0, 255, 0), 1)\n",
    "\n",
    "    cv2.namedWindow(txt)\n",
    "    cv2.setMouseCallback(txt, swatch)\n",
    "\n",
    "    while True:\n",
    "        cv2.imshow(txt, copy)\n",
    "        key = cv2.waitKey(1)\n",
    "        if key != -1:\n",
    "            break\n",
    "    cv2.destroyWindow(txt)\n",
    "    return vertex\n",
    "\n",
    "\n",
    "def get_swatch(img, txt):\n",
    "    swatch = get_swatch_from_img(img, txt)\n",
    "    x, y, x_f, y_f = swatch[0][0], swatch[0][1], swatch[1][0], swatch[1][1]\n",
    "    (x, x_f) = (x_f, x) if x > x_f else (x, x_f)\n",
    "    (y, y_f) = (y_f, y) if y > y_f else (y, y_f)\n",
    "\n",
    "    return img[y:y_f, x:x_f, :]\n"
   ]
  },
  {
   "cell_type": "code",
   "execution_count": 4,
   "metadata": {},
   "outputs": [],
   "source": [
    "def dominant_color(img):\n",
    "    cv2.imwrite(\"./data/dominant.jpg\", img)\n",
    "    time.sleep(10)\n",
    "    color_thief = ColorThief(\"./data/dominant.jpg\")\n",
    "    color = color_thief.get_color(quality=1)\n",
    "    return [color[2], color[1], color[0]]\n",
    "\n",
    "\n",
    "def get_binary_mask(channel, shape, c_min, c_max):\n",
    "    channel = np.resize(channel, shape[:2])\n",
    "    mask = (channel >= c_min) & (channel <= c_max)\n",
    "    return mask.astype(int)\n",
    "\n",
    "\n",
    "def create_mask(color, blur, dev):\n",
    "    b, g, r = color[0], color[1], color[2]\n",
    "    b_min, b_max = b-dev, b+dev\n",
    "    g_min, g_max = g-dev, g+dev\n",
    "    r_min, r_max = r-dev, r+dev\n",
    "    b_mask, g_mask, r_mask = get_binary_mask(blur[:, :, 0], blur.shape, b_min, b_max), get_binary_mask(\n",
    "        blur[:, :, 1], blur.shape, g_min, g_max), get_binary_mask(blur[:, :, 2], blur.shape, r_min, r_max)\n",
    "    sum_mask = b_mask+g_mask+r_mask\n",
    "    return (sum_mask == 3).astype(int)\n"
   ]
  },
  {
   "cell_type": "code",
   "execution_count": 7,
   "metadata": {},
   "outputs": [],
   "source": [
    "def sky_enhancement(img):\n",
    "    blur = cv2.bilateralFilter(img, 9, 75, 75)\n",
    "    # Get swatch for sky and mask\n",
    "    blue = get_swatch(img, \"Sky Swatch\")\n",
    "    dominant_blue = dominant_color(blue)\n",
    "    sky_m = create_mask(dominant_blue, blur, 70)\n",
    "\n",
    "    # Get swatch for cloud and mask\n",
    "    cloud = get_swatch(img, \"Cloud Swatch\")\n",
    "    dominant_cloud = dominant_color(cloud)\n",
    "    cloud_m = create_mask(dominant_cloud, blur, 50)\n",
    "\n",
    "    # join both masks to get full sky mask\n",
    "    joint_mask = cv2.bitwise_or(sky_m, cloud_m)\n",
    "\n",
    "    # Get average color and f value\n",
    "    # Ideal blue is a selected color by the user\n",
    "    avg_blue = np.zeros(blur.shape, np.uint8)\n",
    "    avg_blue[:] = (dominant_blue[0], dominant_blue[1], dominant_blue[2])\n",
    "    ideal_blue = np.zeros(blur.shape, np.uint8)\n",
    "    ideal_blue[:] = (189, 122, 42)\n",
    "    cv2.imshow(\"sky color\", np.hstack([ideal_blue, avg_blue]))\n",
    "    cv2.waitKey(0)\n",
    "    cv2.destroyAllWindows()\n",
    "\n",
    "    avg_blue = cv2.cvtColor(avg_blue, cv2.COLOR_BGR2Lab)\n",
    "    ideal_blue = cv2.cvtColor(ideal_blue, cv2.COLOR_BGR2Lab)\n",
    "\n",
    "    # Implement new color in the sky\n",
    "    f_sky = (ideal_blue/avg_blue)[0, 0]\n",
    "    # copy where we'll assign the new values\n",
    "    lab = cv2.cvtColor(img, cv2.COLOR_BGR2Lab)\n",
    "    sky_enhance = np.copy(lab)\n",
    "    # boolean indexing and assignment based on mask\n",
    "    for i in range(0, 3):\n",
    "        sky_enhance[:, :, i][joint_mask == 1] = sky_enhance[:,\n",
    "                                                            :, i][joint_mask == 1] * f_sky[i]\n",
    "    sky_enhance_w = cv2.addWeighted(sky_enhance, 1, img, 0, 0, sky_enhance)\n",
    "    check = cv2.cvtColor(sky_enhance_w, cv2.COLOR_Lab2BGR)\n",
    "    cv2.imshow(\"sky_mask\", cv2.bitwise_and(\n",
    "        img, img, mask=joint_mask.astype(np.uint8)))\n",
    "    cv2.imshow(\"new sky\", np.hstack([img, check, sky_enhance_w]))\n",
    "    cv2.waitKey(0)\n",
    "    cv2.destroyAllWindows()\n",
    "\n",
    "    # Implement new color in the clouds\n",
    "    # Not getting good results, applies blue instead of white\n",
    "    # Better to keep blueish clouds from applying new color to whole image\n",
    "    \"\"\"\n",
    "    ideal_white = [100,0,0]\n",
    "    # copy where we'll assign the new values\n",
    "    cloud_enhance = np.copy(sky_enhance)\n",
    "    # boolean indexing and assignment based on mask\n",
    "    for i in range(0,3):\n",
    "        cloud_enhance[:,:,i][cloud_m == 1] = (cloud_enhance[:,:,i][cloud_m == 1] + ideal_white[i])/2.0\n",
    "    \n",
    "    cloud_enhance[:,:,0].clip(0,100)\n",
    "    cloud_enhance_w = cv2.addWeighted(cloud_enhance, 1, img, 0, 0, cloud_enhance)\n",
    "    check_c = cv2.cvtColor(cloud_enhance_w, cv2.COLOR_Lab2BGR)\n",
    "    cv2.imshow(\"cloud_mask\",cv2.bitwise_and(img, img, mask = cloud_m.astype(np.uint8)))\n",
    "    cv2.imshow(\"enhancements sky\",np.hstack([img, check_c, cloud_enhance_w]))\n",
    "    cv2.waitKey(0)\n",
    "    cv2.destroyAllWindows()\n",
    "    \"\"\"\n",
    "\n",
    "    \"\"\"\n",
    "    βnew = Psky*f sky* βold + (1 − Psky) * βold\n",
    "    \n",
    "    κnew = Psky*(W+κold)/2 + (1 − Psky)*  κold\n",
    "    \"\"\"\n",
    "\n",
    "    return check.copy()\n"
   ]
  },
  {
   "cell_type": "code",
   "execution_count": 8,
   "metadata": {},
   "outputs": [],
   "source": [
    "colored_img = sky_enhancement(image)\n",
    "cv2.imshow(\"Original\", image)\n",
    "cv2.imshow(\"Final\", colored_img)\n",
    "cv2.waitKey(0)\n",
    "cv2.destroyAllWindows()\n"
   ]
  },
  {
   "cell_type": "code",
   "execution_count": null,
   "metadata": {},
   "outputs": [],
   "source": []
  }
 ],
 "metadata": {
  "kernelspec": {
   "display_name": "Python 3 (ipykernel)",
   "language": "python",
   "name": "python3"
  },
  "language_info": {
   "codemirror_mode": {
    "name": "ipython",
    "version": 3
   },
   "file_extension": ".py",
   "mimetype": "text/x-python",
   "name": "python",
   "nbconvert_exporter": "python",
   "pygments_lexer": "ipython3",
   "version": "3.9.12"
  },
  "vscode": {
   "interpreter": {
    "hash": "a5d4af56a2e7987301107af7338a2f4c12a3584e52162a713fa580e431dd5f3e"
   }
  }
 },
 "nbformat": 4,
 "nbformat_minor": 2
}
