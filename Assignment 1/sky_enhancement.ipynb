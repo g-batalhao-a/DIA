{
 "cells": [
  {
   "cell_type": "code",
   "execution_count": 46,
   "metadata": {},
   "outputs": [
    {
     "name": "stdout",
     "output_type": "stream",
     "text": [
      "Requirement already satisfied: opencv-python in c:\\users\\gbata\\appdata\\local\\packages\\pythonsoftwarefoundation.python.3.10_qbz5n2kfra8p0\\localcache\\local-packages\\python310\\site-packages (4.6.0.66)\n",
      "Requirement already satisfied: numpy>=1.14.5 in c:\\users\\gbata\\appdata\\local\\packages\\pythonsoftwarefoundation.python.3.10_qbz5n2kfra8p0\\localcache\\local-packages\\python310\\site-packages (from opencv-python) (1.23.2)\n"
     ]
    }
   ],
   "source": [
    "import sys\n",
    "!{sys.executable} -m pip install opencv-python"
   ]
  },
  {
   "cell_type": "code",
   "execution_count": 47,
   "metadata": {},
   "outputs": [],
   "source": [
    "import cv2\n",
    "import numpy as np\n",
    "import math \n",
    "\n",
    "# Read the image\n",
    "image = cv2.imread(\"./data/sky.jpg\")\n",
    "\n",
    "cv2.imshow(\"Original\",image)\n",
    "cv2.waitKey(0)\n",
    "cv2.destroyAllWindows()"
   ]
  },
  {
   "cell_type": "code",
   "execution_count": 48,
   "metadata": {},
   "outputs": [],
   "source": [
    "def get_swatch(img):\n",
    "    v_list = []\n",
    "    copy= img.copy()\n",
    "    def select(e, x, y, f, param):\n",
    "        if e == cv2.EVENT_LBUTTONDOWN:\n",
    "            v_list.append((x,y))\n",
    "            if len(v_list)%2 == 0:\n",
    "                cv2.rectangle(copy, v_list[-2], v_list[-1], (0,255,0), 1)\n",
    "\n",
    "            else:\n",
    "                cv2.circle(copy, v_list[-1], 1, (0,0,255), 1)\n",
    "\n",
    "    cv2.namedWindow(\"Swatch\")\n",
    "    cv2.setMouseCallback(\"Swatch\", select)\n",
    "    while(True):\n",
    "        cv2.imshow(\"Swatch\", copy)\n",
    "        key = cv2.waitKey(1)\n",
    "        if key == 122 and len(v_list)!=0:\n",
    "            v_list.pop()\n",
    "            copy = img.copy()\n",
    "            for x,y in zip(v_list[::2],v_list[1::2]):\n",
    "                cv2.rectangle(copy, x, y, (0,255,0), 1)\n",
    "            if(len(v_list)%2==1):\n",
    "                cv2.circle(copy, v_list[-1], 1, (0,0,255), 1)\n",
    "        if key!=-1:\n",
    "            break\n",
    "    cv2.destroyWindow(\"Swatch\")\n",
    "    l = [(x[0],x[1],y[0]-x[0],y[1]-x[1]) for x,y in zip(v_list[::2],v_list[1::2])]\n",
    "    if len(l)==0:\n",
    "        return None\n",
    "    return l\n",
    "\n",
    "\n",
    "def get_swatch_img(img):\n",
    "    s = get_swatch(img)\n",
    "    if s is None: return None\n",
    "    a, b= s[0][0], s[0][1]\n",
    "    da, db = s[0][2]+a, s[0][3]+b\n",
    "\n",
    "    if a> da:\n",
    "        a,da = da,a\n",
    "    if b> db:\n",
    "        b,db = db,b\n",
    "    return img[b:db,a:da,:]"
   ]
  },
  {
   "cell_type": "code",
   "execution_count": 49,
   "metadata": {},
   "outputs": [
    {
     "name": "stdout",
     "output_type": "stream",
     "text": [
      "Requirement already satisfied: colorthief in c:\\users\\gbata\\appdata\\local\\packages\\pythonsoftwarefoundation.python.3.10_qbz5n2kfra8p0\\localcache\\local-packages\\python310\\site-packages (0.2.1)\n",
      "Requirement already satisfied: Pillow in c:\\users\\gbata\\appdata\\local\\packages\\pythonsoftwarefoundation.python.3.10_qbz5n2kfra8p0\\localcache\\local-packages\\python310\\site-packages (from colorthief) (9.2.0)\n"
     ]
    }
   ],
   "source": [
    "!pip install colorthief\n",
    "from pickletools import uint8\n",
    "import time\n",
    "from colorthief import ColorThief\n",
    "\n",
    "def dominant_color(img):\n",
    "    if img is None: return None\n",
    "    cv2.imwrite(\"./data/swatch.jpg\",img)\n",
    "    time.sleep(5)\n",
    "    color_thief = ColorThief(\"./data/swatch.jpg\")\n",
    "    color = color_thief.get_color(quality=1)\n",
    "    return [color[2],color[1],color[0]]\n",
    "\n",
    "def get_binnary_mask(channel,x,y, c_min, c_max):\n",
    "    channel = np.resize(channel,(x,y))\n",
    "    mask = (channel>=c_min) & (channel<=c_max)\n",
    "    return mask.astype(int)\n",
    "\n",
    "def sky_mask(blue, blur):\n",
    "    if blue is None or blur is None: return None\n",
    "    b,g,r = blue[0],blue[1],blue[2]\n",
    "    dev = 30\n",
    "    b_min, b_max = b-dev, b+dev\n",
    "    g_min, g_max = g-dev, g+dev\n",
    "    r_min, r_max = r-dev, r+dev\n",
    "    x = blur.shape[0]\n",
    "    y = blur.shape[1]\n",
    "    b_mask = get_binnary_mask(blur[:,:,0],x,y,b_min,b_max)\n",
    "    g_mask = get_binnary_mask(blur[:,:,1],x,y,g_min,g_max)\n",
    "    r_mask = get_binnary_mask(blur[:,:,2],x,y,r_min,r_max)\n",
    "    sum_mask = b_mask+g_mask+r_mask\n",
    "    t = (sum_mask == 3)\n",
    "    return t.astype(int)\n",
    "\n",
    "def refined_mask(mask):\n",
    "    laplace = cv2.Laplacian(mask.astype(float), cv2.CV_64F)\n",
    "    laplace /= np.max(laplace)\n",
    "    return np.multiply(np.exp(-laplace),(mask.astype(float) ==1).astype(int))\n",
    "    \n"
   ]
  },
  {
   "cell_type": "code",
   "execution_count": 50,
   "metadata": {},
   "outputs": [],
   "source": [
    "def sky_enhancement(img):\n",
    "    blur = cv2.bilateralFilter(img, 9, 75, 75)\n",
    "    \n",
    "    blue = get_swatch_img(img)\n",
    "    if blue is None: return []\n",
    "    ideal_blue = dominant_color(blue)\n",
    "    sky_m = sky_mask(ideal_blue, blur)\n",
    "    \n",
    "    cloud = get_swatch_img(img)\n",
    "    ideal_cloud = dominant_color(cloud)\n",
    "    cloud_m = sky_mask(ideal_cloud, blur)\n",
    "    \n",
    "    binary_mask = sky_m + cloud_m if cloud_m is not None else sky_m\n",
    "\n",
    "    final_mask = refined_mask(binary_mask)\n",
    "\n",
    "    final = np.empty([blur.shape[0],blur.shape[1],blur.shape[2]])\n",
    "    for i in range(3):\n",
    "        final[:,:,i] = np.multiply(final_mask,blur[:,:,i])\n",
    "\n",
    "    return final.astype(np.uint8)\n"
   ]
  },
  {
   "cell_type": "code",
   "execution_count": 51,
   "metadata": {},
   "outputs": [],
   "source": [
    "colored_img = sky_enhancement(image)\n",
    "cv2.imshow(\"Original\",image)\n",
    "cv2.imshow(\"Final\",colored_img)\n",
    "cv2.waitKey(0)\n",
    "cv2.destroyAllWindows()"
   ]
  },
  {
   "cell_type": "code",
   "execution_count": null,
   "metadata": {},
   "outputs": [],
   "source": []
  },
  {
   "cell_type": "code",
   "execution_count": null,
   "metadata": {},
   "outputs": [],
   "source": []
  }
 ],
 "metadata": {
  "kernelspec": {
   "display_name": "Python 3.10.6 64-bit (windows store)",
   "language": "python",
   "name": "python3"
  },
  "language_info": {
   "codemirror_mode": {
    "name": "ipython",
    "version": 3
   },
   "file_extension": ".py",
   "mimetype": "text/x-python",
   "name": "python",
   "nbconvert_exporter": "python",
   "pygments_lexer": "ipython3",
   "version": "3.10.6"
  },
  "orig_nbformat": 4,
  "vscode": {
   "interpreter": {
    "hash": "a5d4af56a2e7987301107af7338a2f4c12a3584e52162a713fa580e431dd5f3e"
   }
  }
 },
 "nbformat": 4,
 "nbformat_minor": 2
}
