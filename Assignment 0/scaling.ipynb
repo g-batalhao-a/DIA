{
 "cells": [
  {
   "cell_type": "code",
   "execution_count": 1,
   "metadata": {},
   "outputs": [
    {
     "name": "stdout",
     "output_type": "stream",
     "text": [
      "Requirement already satisfied: opencv-python in c:\\users\\gbata\\appdata\\local\\packages\\pythonsoftwarefoundation.python.3.10_qbz5n2kfra8p0\\localcache\\local-packages\\python310\\site-packages (4.6.0.66)\n",
      "Requirement already satisfied: numpy>=1.19.3 in c:\\users\\gbata\\appdata\\local\\packages\\pythonsoftwarefoundation.python.3.10_qbz5n2kfra8p0\\localcache\\local-packages\\python310\\site-packages (from opencv-python) (1.23.1)\n",
      "Note: you may need to restart the kernel to use updated packages.\n"
     ]
    }
   ],
   "source": [
    "%pip install opencv-python\n",
    "\n",
    "import cv2\n",
    "import math\n",
    "import numpy as np"
   ]
  },
  {
   "cell_type": "code",
   "execution_count": 2,
   "metadata": {},
   "outputs": [],
   "source": [
    "def bilinear_interpolation(image, y, x):\n",
    "    height = image.shape[0]\n",
    "    width = image.shape[1]\n",
    "\n",
    "    # Coordinate of the 4 nearest pixels\n",
    "    x1 = max(min(math.floor(x), width - 1), 0)\n",
    "    y1 = max(min(math.floor(y), height - 1), 0)\n",
    "    x2 = max(min(math.ceil(x), width - 1), 0)\n",
    "    y2 = max(min(math.ceil(y), height - 1), 0)\n",
    "\n",
    "    # Values of the 4 nearest pixels\n",
    "    p1 = float(image[y1, x1])\n",
    "    p2 = float(image[y2, x1])\n",
    "    p3 = float(image[y1, x2])\n",
    "    p4 = float(image[y2, x2])\n",
    "\n",
    "    # Distance to center of the 4 nearest pixels\n",
    "    dx = x - x1\n",
    "    dy = y - y1\n",
    "\n",
    "    # Calculate the interpolated value\n",
    "    new_pixel = p1 * (1 - dx) * (1 - dy)\n",
    "    new_pixel += p2 * dy * (1 - dx)\n",
    "    new_pixel += p3 * dx * (1 - dy)\n",
    "    new_pixel += p4 * dx * dy\n",
    "    return round(new_pixel)\n",
    "\n"
   ]
  },
  {
   "cell_type": "code",
   "execution_count": 3,
   "metadata": {},
   "outputs": [],
   "source": [
    "def resize(image, new_height, new_width):\n",
    "    # Create new image\n",
    "    new_image = np.zeros((new_height, new_width), image.dtype)\n",
    "\n",
    "    # Get dimensions of image\n",
    "    orig_height = image.shape[0]\n",
    "    orig_width = image.shape[1]\n",
    "\n",
    "    # Compute center column and center row\n",
    "    x_orig_center = (orig_width-1) / 2\n",
    "    y_orig_center = (orig_height-1) / 2\n",
    "\n",
    "    # Compute center of resized image\n",
    "    x_scaled_center = (new_width-1) / 2\n",
    "    y_scaled_center = (new_height-1) / 2\n",
    "\n",
    "    # Compute the scale in both axes\n",
    "    scale_x = orig_width / new_width\n",
    "    scale_y = orig_height / new_height\n",
    "\n",
    "    # Loop through the new image and compute the new pixel values\n",
    "    for y in range(new_height):\n",
    "        for x in range(new_width):\n",
    "            x_ = (x - x_scaled_center) * scale_x + x_orig_center\n",
    "            y_ = (y - y_scaled_center) * scale_y + y_orig_center\n",
    "\n",
    "            new_image[y, x] = bilinear_interpolation(image, y_, x_)\n",
    "\n",
    "    return new_image"
   ]
  },
  {
   "cell_type": "code",
   "execution_count": 4,
   "metadata": {},
   "outputs": [],
   "source": [
    "img = cv2.imread('sample_img.jpg', cv2.IMREAD_GRAYSCALE)\n",
    "\n",
    "new_width = 256\n",
    "new_height = 256\n",
    "\n",
    "resized_img = resize(img, new_height, new_width)"
   ]
  },
  {
   "cell_type": "code",
   "execution_count": 5,
   "metadata": {},
   "outputs": [
    {
     "name": "stdout",
     "output_type": "stream",
     "text": [
      "max abs_diff = 1\n"
     ]
    }
   ],
   "source": [
    "# Reference for testing\n",
    "reference_resized_img = cv2.resize(img, (new_width, new_height), interpolation=cv2.INTER_LINEAR)\n",
    "\n",
    "abs_diff = cv2.absdiff(reference_resized_img, resized_img)\n",
    "print('max abs_diff = ' + str(abs_diff.max()))"
   ]
  },
  {
   "cell_type": "code",
   "execution_count": 6,
   "metadata": {},
   "outputs": [],
   "source": [
    "cv2.imshow('img', img)\n",
    "cv2.imshow('resized_img', resized_img)\n",
    "cv2.imshow('reference_resized_img', reference_resized_img)\n",
    "cv2.imshow('abs_diff*10', abs_diff*10)\n",
    "#Press enter to destroy windows\n",
    "cv2.waitKey()\n",
    "cv2.destroyAllWindows()"
   ]
  },
  {
   "cell_type": "code",
   "execution_count": 7,
   "metadata": {},
   "outputs": [
    {
     "name": "stdout",
     "output_type": "stream",
     "text": [
      "max abs_diff = 1\n"
     ]
    }
   ],
   "source": [
    "new_width = 1024\n",
    "new_height = 1024\n",
    "\n",
    "img = cv2.imread('sample_img2.png', cv2.IMREAD_GRAYSCALE)\n",
    "resized_img = resize(img, new_height, new_width)\n",
    "reference_resized_img = cv2.resize(img, (new_width, new_height), interpolation=cv2.INTER_LINEAR)\n",
    "abs_diff = cv2.absdiff(reference_resized_img, resized_img)\n",
    "print('max abs_diff = ' + str(abs_diff.max()))\n",
    "\n",
    "cv2.imshow('img', img)\n",
    "cv2.imshow('resized_img', resized_img)\n",
    "cv2.imshow('reference_resized_img', reference_resized_img)\n",
    "cv2.imshow('abs_diff*10', abs_diff*10)\n",
    "#Press enter to destroy windows\n",
    "cv2.waitKey()\n",
    "cv2.destroyAllWindows()"
   ]
  },
  {
   "cell_type": "code",
   "execution_count": null,
   "metadata": {},
   "outputs": [],
   "source": []
  }
 ],
 "metadata": {
  "kernelspec": {
   "display_name": "Python 3.10.6 64-bit (windows store)",
   "language": "python",
   "name": "python3"
  },
  "language_info": {
   "codemirror_mode": {
    "name": "ipython",
    "version": 3
   },
   "file_extension": ".py",
   "mimetype": "text/x-python",
   "name": "python",
   "nbconvert_exporter": "python",
   "pygments_lexer": "ipython3",
   "version": "3.10.6"
  },
  "orig_nbformat": 4,
  "vscode": {
   "interpreter": {
    "hash": "a5d4af56a2e7987301107af7338a2f4c12a3584e52162a713fa580e431dd5f3e"
   }
  }
 },
 "nbformat": 4,
 "nbformat_minor": 2
}
